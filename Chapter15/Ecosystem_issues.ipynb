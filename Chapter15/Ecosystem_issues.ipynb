{
  "nbformat": 4,
  "nbformat_minor": 0,
  "metadata": {
    "colab": {
      "provenance": [],
      "toc_visible": true,
      "mount_file_id": "1gjwqoCHDA5wr3y_66gIPBkxwyD5CPYlj",
      "authorship_tag": "ABX9TyOgfjpnARLVNAZZabixrSqb",
      "include_colab_link": true
    },
    "kernelspec": {
      "name": "python3",
      "display_name": "Python 3"
    },
    "language_info": {
      "name": "python"
    }
  },
  "cells": [
    {
      "cell_type": "markdown",
      "metadata": {
        "id": "view-in-github",
        "colab_type": "text"
      },
      "source": [
        "<a href=\"https://colab.research.google.com/github/Denis2054/AI_Educational/blob/master/Chapter15/Ecosystem_issues.ipynb\" target=\"_parent\"><img src=\"https://colab.research.google.com/assets/colab-badge.svg\" alt=\"Open In Colab\"/></a>"
      ]
    },
    {
      "cell_type": "markdown",
      "source": [
        "# Managing AI Dependencies: Stability Meets Innovation in LLM Ecosystems\n",
        "\n",
        "copyright 2024, Denis Rothman\n",
        "\n",
        "An educational illustration of the challenge of dependency version management with simplified version information.\n",
        "\n"
      ],
      "metadata": {
        "id": "YMfhL3l9Nj-S"
      }
    },
    {
      "cell_type": "markdown",
      "source": [
        "Managing dependencies in AI projects, especially with Large Language Models (LLMs), presents a significant challenge due to the intricate web of library and package interdependencies. Initially, installing the latest versions (Session 1) seems appealing for accessing recent functionalities, but it risks incompatibility with specific LLM ecosystems or platforms like Cloud services.\n",
        "\n",
        "The challenge escalates (Session 2A) when developers must identify versions that not only align with the LLM ecosystem but also avoid conflicts with other dependencies. This task is time-consuming and complex, compounded by evolving cloud platforms (Session 2B), which introduce their own version constraints, as seen in Colab's release notes.\n",
        "\n",
        "Ultimately, freezing versions (Session 3) can stabilize the environment, ensuring compatibility and reducing the risk of conflicts. However, this approach has its downsides: it may preclude the use of the latest features and innovations, and there's a risk that APIs may become deprecated.\n",
        "\n",
        "Conclusion: The dependency management in AI development is a delicate balancing act—choosing between cutting-edge features and a stable, reliable environment. It requires careful consideration and ongoing vigilance to maintain an effective development workflow amidst the rapidly evolving landscape of AI technologies and platforms."
      ],
      "metadata": {
        "id": "XsuY26c0cmW6"
      }
    },
    {
      "cell_type": "markdown",
      "source": [
        "# Session 1 Installing without freezing versions : latest versions, all recent functionality\n",
        "\n",
        "Challenge: may not work with the LLM model or ecosystem(Cloud Platform, for example)"
      ],
      "metadata": {
        "id": "hz1V-KnlKyaI"
      }
    },
    {
      "cell_type": "markdown",
      "source": [
        "deeplake  \n",
        "openai  \n",
        "tiktoken  \n",
        "transformers  \n",
        "torch  \n",
        "numpy  \n",
        "deepspeed  \n",
        "trl  \n",
        "peft  \n",
        "wandb  \n",
        "bitsandbytes  \n",
        "accelerate  \n",
        "tqdm  \n",
        "neural_compressor  \n",
        "onnx  \n",
        "pandas  \n",
        "scipy  \n"
      ],
      "metadata": {
        "id": "C-G23DAYR_vI"
      }
    },
    {
      "cell_type": "markdown",
      "source": [
        "# Session 2A Finding versions that fit the LLM model ecosystem and are not conflicting\n",
        "\n",
        "Challenge:\n",
        "\n",
        "-Time consumption finding the versions that fit the LLM model and ecosystem.\n",
        "\n",
        "-Time consumption finding versions that do not conflict with other package versions"
      ],
      "metadata": {
        "id": "d_I6poXdQ5D9"
      }
    },
    {
      "cell_type": "markdown",
      "source": [
        "## Package versions"
      ],
      "metadata": {
        "id": "mCHwe6ykwNeX"
      }
    },
    {
      "cell_type": "code",
      "source": [
        "import requests\n",
        "from packaging import version\n",
        "from IPython.display import display, Markdown\n",
        "\n",
        "# Dictionary of packages with their brief descriptions\n",
        "packages = {\n",
        "    \"deeplake\": \"Data lake management and operations.\",\n",
        "    \"openai\": \"OpenAI's API client library.\",\n",
        "    \"tiktoken\": \"a fast  Byte-Pair Encoding (BPE) tokenizer for use with OpenAI's models.\",\n",
        "    \"transformers\": \"State-of-the-art NLP models and pipelines.\",\n",
        "    \"torch\": \"PyTorch, a deep learning framework.\",\n",
        "    \"numpy\": \"Fundamental package for scientific computing.\",\n",
        "    \"deepspeed\": \"Deep learning optimization library.\",\n",
        "    \"trl\": \"Transformers Reinforcement Learning.\",\n",
        "    \"peft\": \"Predictive Ensemble Forecasting Tool.\",\n",
        "    \"wandb\": \"Weights & Biases for machine learning experiment tracking.\",\n",
        "    \"bitsandbytes\": \"Efficient deep learning training.\",\n",
        "    \"accelerate\": \"Simplify multi-GPU/multi-node training.\",\n",
        "    \"tqdm\": \"Fast, extensible progress bar for loops.\",\n",
        "    \"neural_compressor\": \"Neural network optimization toolkit.\",\n",
        "    \"onnx\": \"Open Neural Network Exchange format.\",\n",
        "    \"pandas\": \"Data analysis and manipulation library.\",\n",
        "    \"scipy\": \"Scientific computing and technical computing.\"\n",
        "}\n",
        "\n",
        "for package, description in packages.items():\n",
        "    # Print the package name and description\n",
        "    display(Markdown(f'### Release history for **{package}**: {description}'))\n",
        "\n",
        "    # Get the package information from PyPI\n",
        "    response = requests.get(f'https://pypi.org/pypi/{package}/json')\n",
        "\n",
        "    # Check if the request was successful\n",
        "    if response.status_code == 200:\n",
        "        data = response.json()\n",
        "        releases = data.get('releases', {})\n",
        "\n",
        "        # Sort the releases by version\n",
        "        sorted_versions = sorted(releases.keys(), key=lambda v: version.parse(v))\n",
        "\n",
        "        # Gather all versions in a Markdown string, separated by commas\n",
        "        versions_markdown = ', '.join(f'`{ver}`' for ver in sorted_versions)\n",
        "\n",
        "        # Display the versions in one paragraph\n",
        "        display(Markdown(versions_markdown))\n",
        "    else:\n",
        "        display(Markdown(f'Failed to fetch release history for **{package}**'))"
      ],
      "metadata": {
        "colab": {
          "base_uri": "https://localhost:8080/",
          "height": 1000
        },
        "id": "wgucANa0S3kx",
        "outputId": "4318c62b-5eb5-4394-c396-4fb86b2815c9"
      },
      "execution_count": 1,
      "outputs": [
        {
          "output_type": "display_data",
          "data": {
            "text/plain": [
              "<IPython.core.display.Markdown object>"
            ],
            "text/markdown": "### Release history for **deeplake**: Data lake management and operations."
          },
          "metadata": {}
        },
        {
          "output_type": "display_data",
          "data": {
            "text/plain": [
              "<IPython.core.display.Markdown object>"
            ],
            "text/markdown": "`0.0.1`, `0.0.2`, `0.0.3`, `0.0.4`, `0.0.5`, `0.0.6`, `2.8.6`, `2.8.7`, `3.0.0`, `3.0.1`, `3.0.2`, `3.0.3`, `3.0.4`, `3.0.6`, `3.0.7`, `3.0.8`, `3.0.9`, `3.0.10`, `3.0.11`, `3.0.12`, `3.0.13`, `3.0.14`, `3.0.15`, `3.0.16`, `3.0.17`, `3.0.18`, `3.1.0`, `3.1.1`, `3.1.2`, `3.1.3`, `3.1.4`, `3.1.5`, `3.1.6`, `3.1.7`, `3.1.8`, `3.1.9`, `3.1.10`, `3.1.11`, `3.1.12`, `3.2.0`, `3.2.1`, `3.2.2`, `3.2.3`, `3.2.4`, `3.2.5`, `3.2.6`, `3.2.7`, `3.2.8`, `3.2.9`, `3.2.10`, `3.2.11`, `3.2.12`, `3.2.13`, `3.2.14`, `3.2.15`, `3.2.16`, `3.2.17`, `3.2.18`, `3.2.19`, `3.2.20`, `3.2.21`, `3.2.22`, `3.3.0`, `3.3.1`, `3.3.2`, `3.4.0`, `3.4.1`, `3.4.2`, `3.4.3`, `3.4.4`, `3.5.0`, `3.5.1`, `3.5.2`, `3.5.3`, `3.5.4`, `3.6.0`, `3.6.1`, `3.6.2`, `3.6.3`, `3.6.4`, `3.6.5`, `3.6.6`, `3.6.7`, `3.6.8`, `3.6.9`, `3.6.10`, `3.6.11`, `3.6.12`, `3.6.13`, `3.6.14`, `3.6.15`, `3.6.16`, `3.6.17`, `3.6.18`, `3.6.19`, `3.6.20`, `3.6.21`, `3.6.22`, `3.6.23`, `3.6.24`, `3.6.25`, `3.6.26`, `3.7.0`, `3.7.1`, `3.7.2`, `3.7.3`, `3.8.0`, `3.8.1`, `3.8.2`, `3.8.3`, `3.8.4`, `3.8.5`, `3.8.6`, `3.8.7`, `3.8.8`, `3.8.9`, `3.8.10`, `3.8.11`, `3.8.12`, `3.8.13`, `3.8.14`, `3.8.15`, `3.8.16`, `3.8.17`, `3.8.18`, `3.8.19`, `3.8.20`, `3.8.21`, `3.8.22`, `3.8.23`, `3.8.24`, `3.8.25`, `3.8.26`, `3.8.27`, `3.8.28`, `3.9.0`"
          },
          "metadata": {}
        },
        {
          "output_type": "display_data",
          "data": {
            "text/plain": [
              "<IPython.core.display.Markdown object>"
            ],
            "text/markdown": "### Release history for **openai**: OpenAI's API client library."
          },
          "metadata": {}
        },
        {
          "output_type": "display_data",
          "data": {
            "text/plain": [
              "<IPython.core.display.Markdown object>"
            ],
            "text/markdown": "`0.0.2`, `0.1.0`, `0.1.1`, `0.1.2`, `0.1.3`, `0.2.0`, `0.2.1`, `0.2.3`, `0.2.4`, `0.2.5`, `0.2.6`, `0.3.0`, `0.4.0`, `0.6.0`, `0.6.1`, `0.6.2`, `0.6.3`, `0.6.4`, `0.7.0`, `0.8.0`, `0.9.0`, `0.9.1`, `0.9.2`, `0.9.3`, `0.9.4`, `0.10.0`, `0.10.1`, `0.10.2`, `0.10.3`, `0.10.4`, `0.10.5`, `0.11.0`, `0.11.1`, `0.11.2`, `0.11.3`, `0.11.4`, `0.11.5`, `0.11.6`, `0.12.0`, `0.13.0`, `0.14.0`, `0.15.0`, `0.16.0`, `0.18.0`, `0.18.1`, `0.19.0`, `0.20.0`, `0.22.0`, `0.22.1`, `0.23.0`, `0.23.1`, `0.24.0`, `0.25.0`, `0.26.0`, `0.26.1`, `0.26.2`, `0.26.3`, `0.26.4`, `0.26.5`, `0.27.0`, `0.27.1`, `0.27.2`, `0.27.3`, `0.27.4`, `0.27.5`, `0.27.6`, `0.27.7`, `0.27.8`, `0.27.9`, `0.27.10`, `0.28.0`, `0.28.1`, `1.0.0b1`, `1.0.0b2`, `1.0.0b3`, `1.0.0rc1`, `1.0.0rc2`, `1.0.0rc3`, `1.0.0`, `1.0.1`, `1.1.0`, `1.1.1`, `1.1.2`, `1.2.0`, `1.2.1`, `1.2.2`, `1.2.3`, `1.2.4`, `1.3.0`, `1.3.1`, `1.3.2`, `1.3.3`, `1.3.4`, `1.3.5`, `1.3.6`, `1.3.7`, `1.3.8`, `1.3.9`, `1.4.0`, `1.5.0`, `1.6.0`, `1.6.1`, `1.7.0`, `1.7.1`, `1.7.2`, `1.8.0`, `1.9.0`, `1.10.0`, `1.11.0`, `1.11.1`, `1.12.0`, `1.13.3`, `1.13.4`, `1.14.0`, `1.14.1`, `1.14.2`, `1.14.3`, `1.16.0`, `1.16.1`, `1.16.2`"
          },
          "metadata": {}
        },
        {
          "output_type": "display_data",
          "data": {
            "text/plain": [
              "<IPython.core.display.Markdown object>"
            ],
            "text/markdown": "### Release history for **tiktoken**: a fast  Byte-Pair Encoding (BPE) tokenizer for use with OpenAI's models."
          },
          "metadata": {}
        },
        {
          "output_type": "display_data",
          "data": {
            "text/plain": [
              "<IPython.core.display.Markdown object>"
            ],
            "text/markdown": "`0.1.1`, `0.1.2`, `0.2.0`, `0.3.0`, `0.3.1`, `0.3.2`, `0.3.3`, `0.4.0`, `0.5.0`, `0.5.1`, `0.5.2`, `0.6.0`"
          },
          "metadata": {}
        },
        {
          "output_type": "display_data",
          "data": {
            "text/plain": [
              "<IPython.core.display.Markdown object>"
            ],
            "text/markdown": "### Release history for **transformers**: State-of-the-art NLP models and pipelines."
          },
          "metadata": {}
        },
        {
          "output_type": "display_data",
          "data": {
            "text/plain": [
              "<IPython.core.display.Markdown object>"
            ],
            "text/markdown": "`0.1`, `2.0.0`, `2.1.0`, `2.1.1`, `2.2.0`, `2.2.1`, `2.2.2`, `2.3.0`, `2.4.0`, `2.4.1`, `2.5.0`, `2.5.1`, `2.6.0`, `2.7.0`, `2.8.0`, `2.9.0`, `2.9.1`, `2.10.0`, `2.11.0`, `3.0.0`, `3.0.1`, `3.0.2`, `3.1.0`, `3.2.0`, `3.3.0`, `3.3.1`, `3.4.0`, `3.5.0`, `3.5.1`, `4.0.0rc1`, `4.0.0`, `4.0.1`, `4.1.0`, `4.1.1`, `4.2.0`, `4.2.1`, `4.2.2`, `4.3.0rc1`, `4.3.0`, `4.3.1`, `4.3.2`, `4.3.3`, `4.4.0`, `4.4.1`, `4.4.2`, `4.5.0`, `4.5.1`, `4.6.0`, `4.6.1`, `4.7.0`, `4.8.0`, `4.8.1`, `4.8.2`, `4.9.0`, `4.9.1`, `4.9.2`, `4.10.0`, `4.10.1`, `4.10.2`, `4.10.3`, `4.11.0`, `4.11.1`, `4.11.2`, `4.11.3`, `4.12.0`, `4.12.1`, `4.12.2`, `4.12.3`, `4.12.4`, `4.12.5`, `4.13.0`, `4.14.0`, `4.14.1`, `4.15.0`, `4.16.0`, `4.16.1`, `4.16.2`, `4.17.0`, `4.18.0`, `4.19.0`, `4.19.1`, `4.19.2`, `4.19.3`, `4.19.4`, `4.20.0`, `4.20.1`, `4.21.0`, `4.21.1`, `4.21.2`, `4.21.3`, `4.22.0`, `4.22.1`, `4.22.2`, `4.23.0`, `4.23.1`, `4.24.0`, `4.25.0`, `4.25.1`, `4.26.0`, `4.26.1`, `4.27.0`, `4.27.1`, `4.27.2`, `4.27.3`, `4.27.4`, `4.28.0`, `4.28.1`, `4.29.0`, `4.29.1`, `4.29.2`, `4.30.0`, `4.30.1`, `4.30.2`, `4.31.0`, `4.32.0`, `4.32.1`, `4.33.0`, `4.33.1`, `4.33.2`, `4.33.3`, `4.34.0`, `4.34.1`, `4.35.0`, `4.35.1`, `4.35.2`, `4.36.0`, `4.36.1`, `4.36.2`, `4.37.0`, `4.37.1`, `4.37.2`, `4.38.0`, `4.38.1`, `4.38.2`, `4.39.0`, `4.39.1`, `4.39.2`, `4.39.3`"
          },
          "metadata": {}
        },
        {
          "output_type": "display_data",
          "data": {
            "text/plain": [
              "<IPython.core.display.Markdown object>"
            ],
            "text/markdown": "### Release history for **torch**: PyTorch, a deep learning framework."
          },
          "metadata": {}
        },
        {
          "output_type": "display_data",
          "data": {
            "text/plain": [
              "<IPython.core.display.Markdown object>"
            ],
            "text/markdown": "`1.0.0`, `1.0.1`, `1.0.1.post2`, `1.1.0`, `1.1.0.post2`, `1.2.0`, `1.3.0`, `1.3.0.post2`, `1.3.1`, `1.4.0`, `1.5.0`, `1.5.1`, `1.6.0`, `1.7.0`, `1.7.1`, `1.8.0`, `1.8.1`, `1.9.0`, `1.9.1`, `1.10.0`, `1.10.1`, `1.10.2`, `1.11.0`, `1.12.0`, `1.12.1`, `1.13.0`, `1.13.1`, `2.0.0`, `2.0.1`, `2.1.0`, `2.1.1`, `2.1.2`, `2.2.0`, `2.2.1`, `2.2.2`"
          },
          "metadata": {}
        },
        {
          "output_type": "display_data",
          "data": {
            "text/plain": [
              "<IPython.core.display.Markdown object>"
            ],
            "text/markdown": "### Release history for **numpy**: Fundamental package for scientific computing."
          },
          "metadata": {}
        },
        {
          "output_type": "display_data",
          "data": {
            "text/plain": [
              "<IPython.core.display.Markdown object>"
            ],
            "text/markdown": "`0.9.6`, `0.9.8`, `1.0b1`, `1.0b4`, `1.0b5`, `1.0rc1`, `1.0rc2`, `1.0rc3`, `1.0`, `1.0.3`, `1.0.4`, `1.1.1`, `1.2.0`, `1.2.1`, `1.3.0`, `1.4.0`, `1.4.1`, `1.5.0`, `1.5.1`, `1.6.0`, `1.6.1`, `1.6.2`, `1.7.0`, `1.7.1`, `1.7.2`, `1.8.0`, `1.8.1`, `1.8.2`, `1.9.0`, `1.9.1`, `1.9.2`, `1.9.3`, `1.10.0`, `1.10.1`, `1.10.2`, `1.10.3`, `1.10.4`, `1.11.0`, `1.11.1`, `1.11.2`, `1.11.3`, `1.12.0`, `1.12.1`, `1.13.0`, `1.13.1`, `1.13.3`, `1.14.0`, `1.14.1`, `1.14.2`, `1.14.3`, `1.14.4`, `1.14.5`, `1.14.6`, `1.15.0`, `1.15.1`, `1.15.2`, `1.15.3`, `1.15.4`, `1.16.0`, `1.16.1`, `1.16.2`, `1.16.3`, `1.16.4`, `1.16.5`, `1.16.6`, `1.17.0`, `1.17.1`, `1.17.2`, `1.17.3`, `1.17.4`, `1.17.5`, `1.18.0`, `1.18.1`, `1.18.2`, `1.18.3`, `1.18.4`, `1.18.5`, `1.19.0`, `1.19.1`, `1.19.2`, `1.19.3`, `1.19.4`, `1.19.5`, `1.20.0`, `1.20.1`, `1.20.2`, `1.20.3`, `1.21.0`, `1.21.1`, `1.21.2`, `1.21.3`, `1.21.4`, `1.21.5`, `1.21.6`, `1.22.0`, `1.22.1`, `1.22.2`, `1.22.3`, `1.22.4`, `1.23.0rc1`, `1.23.0rc2`, `1.23.0rc3`, `1.23.0`, `1.23.1`, `1.23.2`, `1.23.3`, `1.23.4`, `1.23.5`, `1.24.0rc1`, `1.24.0rc2`, `1.24.0`, `1.24.1`, `1.24.2`, `1.24.3`, `1.24.4`, `1.25.0rc1`, `1.25.0`, `1.25.1`, `1.25.2`, `1.26.0b1`, `1.26.0rc1`, `1.26.0`, `1.26.1`, `1.26.2`, `1.26.3`, `1.26.4`, `2.0.0b1`, `2.0.0rc1`"
          },
          "metadata": {}
        },
        {
          "output_type": "display_data",
          "data": {
            "text/plain": [
              "<IPython.core.display.Markdown object>"
            ],
            "text/markdown": "### Release history for **deepspeed**: Deep learning optimization library."
          },
          "metadata": {}
        },
        {
          "output_type": "display_data",
          "data": {
            "text/plain": [
              "<IPython.core.display.Markdown object>"
            ],
            "text/markdown": "`0.3.1.dev1`, `0.3.1.dev2`, `0.3.1.dev3`, `0.3.1.dev4`, `0.3.1.dev5`, `0.3.1.dev6`, `0.3.1.dev7`, `0.3.1.dev8`, `0.3.1`, `0.3.2`, `0.3.3`, `0.3.4`, `0.3.5`, `0.3.6`, `0.3.7`, `0.3.8`, `0.3.9`, `0.3.10`, `0.3.11`, `0.3.12`, `0.3.13`, `0.3.14`, `0.3.15`, `0.3.16`, `0.4.0`, `0.4.1`, `0.4.2`, `0.4.3`, `0.4.4`, `0.4.5`, `0.5.0`, `0.5.1`, `0.5.2`, `0.5.3`, `0.5.4`, `0.5.5`, `0.5.6`, `0.5.7`, `0.5.8`, `0.5.9`, `0.5.10`, `0.6.0`, `0.6.1`, `0.6.3`, `0.6.4`, `0.6.5`, `0.6.6`, `0.6.7`, `0.7.0`, `0.7.1`, `0.7.2`, `0.7.3`, `0.7.4`, `0.7.5`, `0.7.6`, `0.7.7`, `0.8.0`, `0.8.1`, `0.8.2`, `0.8.3`, `0.9.0`, `0.9.1`, `0.9.2`, `0.9.3`, `0.9.4`, `0.9.5`, `0.10.0`, `0.10.1`, `0.10.2`, `0.10.3`, `0.11.0`, `0.11.1`, `0.11.2`, `0.12.0`, `0.12.1`, `0.12.2`, `0.12.3`, `0.12.4`, `0.12.5`, `0.12.6`, `0.13.0`, `0.13.1`, `0.13.2`, `0.13.3`, `0.13.4`, `0.13.5`, `0.14.0`"
          },
          "metadata": {}
        },
        {
          "output_type": "display_data",
          "data": {
            "text/plain": [
              "<IPython.core.display.Markdown object>"
            ],
            "text/markdown": "### Release history for **trl**: Transformers Reinforcement Learning."
          },
          "metadata": {}
        },
        {
          "output_type": "display_data",
          "data": {
            "text/plain": [
              "<IPython.core.display.Markdown object>"
            ],
            "text/markdown": "`0.0.1`, `0.0.2`, `0.0.3`, `0.1.0`, `0.2.0`, `0.2.1`, `0.3.0`, `0.3.1`, `0.4.0`, `0.4.1`, `0.4.2`, `0.4.3`, `0.4.4`, `0.4.5`, `0.4.6`, `0.4.7`, `0.5.0`, `0.6.0`, `0.7.0`, `0.7.1`, `0.7.2`, `0.7.3`, `0.7.4`, `0.7.5`, `0.7.6`, `0.7.7`, `0.7.8`, `0.7.9`, `0.7.10`, `0.7.11`, `0.8.0`, `0.8.1`"
          },
          "metadata": {}
        },
        {
          "output_type": "display_data",
          "data": {
            "text/plain": [
              "<IPython.core.display.Markdown object>"
            ],
            "text/markdown": "### Release history for **peft**: Predictive Ensemble Forecasting Tool."
          },
          "metadata": {}
        },
        {
          "output_type": "display_data",
          "data": {
            "text/plain": [
              "<IPython.core.display.Markdown object>"
            ],
            "text/markdown": "`0.0.1`, `0.0.2`, `0.1.0`, `0.2.0`, `0.3.0`, `0.4.0`, `0.5.0`, `0.6.0`, `0.6.1`, `0.6.2`, `0.7.0`, `0.7.1`, `0.8.0`, `0.8.1`, `0.8.2`, `0.9.0`, `0.10.0`"
          },
          "metadata": {}
        },
        {
          "output_type": "display_data",
          "data": {
            "text/plain": [
              "<IPython.core.display.Markdown object>"
            ],
            "text/markdown": "### Release history for **wandb**: Weights & Biases for machine learning experiment tracking."
          },
          "metadata": {}
        },
        {
          "output_type": "display_data",
          "data": {
            "text/plain": [
              "<IPython.core.display.Markdown object>"
            ],
            "text/markdown": "`0.1.0`, `0.2.0`, `0.2.1`, `0.2.2`, `0.3.0`, `0.3.1`, `0.3.2`, `0.3.3`, `0.4.0`, `0.4.1`, `0.4.2`, `0.4.3`, `0.4.4`, `0.4.5`, `0.4.6`, `0.4.7`, `0.4.8`, `0.4.9`, `0.4.10`, `0.4.11`, `0.4.12`, `0.4.13`, `0.4.14`, `0.4.15`, `0.4.16`, `0.4.17`, `0.4.18`, `0.4.19`, `0.4.20`, `0.4.21`, `0.4.22`, `0.4.23`, `0.4.24`, `0.4.25`, `0.4.26`, `0.4.27`, `0.4.28`, `0.4.29`, `0.4.30`, `0.4.31`, `0.4.32`, `0.4.33`, `0.4.34`, `0.4.35`, `0.4.36`, `0.4.37`, `0.4.38`, `0.4.39`, `0.4.40`, `0.4.41`, `0.4.42`, `0.4.43`, `0.4.44`, `0.4.45`, `0.4.46`, `0.5.0`, `0.5.1`, `0.5.2`, `0.5.3`, `0.5.4`, `0.5.5`, `0.5.7`, `0.5.8`, `0.5.9`, `0.5.10`, `0.5.11`, `0.5.12`, `0.5.13`, `0.5.14`, `0.5.16`, `0.5.17`, `0.5.18`, `0.5.19`, `0.5.20`, `0.5.21`, `0.5.22`, `0.6.2`, `0.6.3`, `0.6.4`, `0.6.5`, `0.6.6`, `0.6.10`, `0.6.11`, `0.6.12`, `0.6.13`, `0.6.14`, `0.6.15`, `0.6.16`, `0.6.17`, `0.6.18`, `0.6.19`, `0.6.20`, `0.6.21`, `0.6.22`, `0.6.23`, `0.6.24`, `0.6.25`, `0.6.26`, `0.6.29`, `0.6.30`, `0.6.31`, `0.6.32`, `0.6.33`, `0.6.34`, `0.6.35`, `0.7.0`, `0.7.1`, `0.7.2`, `0.7.3`, `0.8.0`, `0.8.1`, `0.8.2`, `0.8.3`, `0.8.4`, `0.8.5`, `0.8.6`, `0.8.7`, `0.8.8`, `0.8.9`, `0.8.10`, `0.8.11`, `0.8.12`, `0.8.13`, `0.8.14`, `0.8.15`, `0.8.16`, `0.8.17`, `0.8.18`, `0.8.19`, `0.8.20`, `0.8.21`, `0.8.22`, `0.8.23`, `0.8.24`, `0.8.25`, `0.8.26`, `0.8.27`, `0.8.28`, `0.8.29`, `0.8.30`, `0.8.31`, `0.8.32`, `0.8.33`, `0.8.34`, `0.8.35`, `0.8.36`, `0.9.1`, `0.9.2`, `0.9.3`, `0.9.4`, `0.9.5`, `0.9.6`, `0.9.7`, `0.10.0rc1`, `0.10.0rc2`, `0.10.0rc3`, `0.10.0rc4`, `0.10.0rc5`, `0.10.0rc6`, `0.10.0rc7`, `0.10.0rc8`, `0.10.0`, `0.10.1`, `0.10.2`, `0.10.3`, `0.10.4`, `0.10.5`, `0.10.6`, `0.10.7`, `0.10.8`, `0.10.9`, `0.10.10`, `0.10.11`, `0.10.12`, `0.10.13`, `0.10.14`, `0.10.15`, `0.10.16`, `0.10.17`, `0.10.18`, `0.10.19`, `0.10.20`, `0.10.21`, `0.10.22`, `0.10.23`, `0.10.24`, `0.10.25`, `0.10.26`, `0.10.27`, `0.10.28`, `0.10.29`, `0.10.30`, `0.10.31`, `0.10.32`, `0.10.33`, `0.11.0`, `0.11.1`, `0.11.2`, `0.12.0`, `0.12.1`, `0.12.2`, `0.12.3`, `0.12.4`, `0.12.5`, `0.12.6`, `0.12.7`, `0.12.8`, `0.12.9`, `0.12.10`, `0.12.11`, `0.12.12`, `0.12.13`, `0.12.14`, `0.12.15`, `0.12.16`, `0.12.17`, `0.12.18`, `0.12.19`, `0.12.20`, `0.12.21`, `0.13.0rc1`, `0.13.0rc2`, `0.13.0rc3`, `0.13.0rc4`, `0.13.0rc5`, `0.13.0rc6`, `0.13.0`, `0.13.1`, `0.13.2`, `0.13.3`, `0.13.4`, `0.13.5`, `0.13.6`, `0.13.7`, `0.13.8`, `0.13.9`, `0.13.10`, `0.13.11`, `0.14.0`, `0.14.1`, `0.14.2`, `0.15.0`, `0.15.1`, `0.15.2`, `0.15.3`, `0.15.4`, `0.15.5`, `0.15.6`, `0.15.7`, `0.15.8`, `0.15.9`, `0.15.10`, `0.15.11`, `0.15.12`, `0.16.0b1`, `0.16.0`, `0.16.1`, `0.16.2`, `0.16.3`, `0.16.4`, `0.16.5`, `0.16.6`"
          },
          "metadata": {}
        },
        {
          "output_type": "display_data",
          "data": {
            "text/plain": [
              "<IPython.core.display.Markdown object>"
            ],
            "text/markdown": "### Release history for **bitsandbytes**: Efficient deep learning training."
          },
          "metadata": {}
        },
        {
          "output_type": "display_data",
          "data": {
            "text/plain": [
              "<IPython.core.display.Markdown object>"
            ],
            "text/markdown": "`0.31.8`, `0.32.0`, `0.32.1`, `0.32.2`, `0.32.3`, `0.33.0`, `0.33.1`, `0.34.0`, `0.35.0`, `0.35.1`, `0.35.2`, `0.35.3`, `0.35.4`, `0.36.0`, `0.36.0.post1`, `0.36.0.post2`, `0.37.0`, `0.37.1`, `0.37.2`, `0.38.0`, `0.38.0.post1`, `0.38.0.post2`, `0.38.1`, `0.39.0`, `0.39.1`, `0.40.0`, `0.40.0.post1`, `0.40.0.post2`, `0.40.0.post3`, `0.40.0.post4`, `0.40.1`, `0.40.1.post1`, `0.40.2`, `0.41.0`, `0.41.1`, `0.41.2`, `0.41.2.post1`, `0.41.2.post2`, `0.41.3`, `0.41.3.post1`, `0.41.3.post2`, `0.42.0`, `0.43.0`"
          },
          "metadata": {}
        },
        {
          "output_type": "display_data",
          "data": {
            "text/plain": [
              "<IPython.core.display.Markdown object>"
            ],
            "text/markdown": "### Release history for **accelerate**: Simplify multi-GPU/multi-node training."
          },
          "metadata": {}
        },
        {
          "output_type": "display_data",
          "data": {
            "text/plain": [
              "<IPython.core.display.Markdown object>"
            ],
            "text/markdown": "`0.0.1`, `0.1.0`, `0.2.0`, `0.2.1`, `0.3.0`, `0.4.0`, `0.5.0`, `0.5.1`, `0.6.0`, `0.6.1`, `0.6.2`, `0.7.0`, `0.7.1`, `0.8.0`, `0.9.0`, `0.10.0`, `0.11.0`, `0.12.0`, `0.13.0`, `0.13.1`, `0.13.2`, `0.14.0`, `0.15.0`, `0.16.0`, `0.17.0`, `0.17.1`, `0.18.0`, `0.19.0`, `0.20.0`, `0.20.1`, `0.20.2`, `0.20.3`, `0.21.0`, `0.22.0`, `0.23.0`, `0.24.0`, `0.24.1`, `0.25.0`, `0.26.0`, `0.26.1`, `0.27.0`, `0.27.1`, `0.27.2`, `0.28.0`, `0.29.0`, `0.29.1`"
          },
          "metadata": {}
        },
        {
          "output_type": "display_data",
          "data": {
            "text/plain": [
              "<IPython.core.display.Markdown object>"
            ],
            "text/markdown": "### Release history for **tqdm**: Fast, extensible progress bar for loops."
          },
          "metadata": {}
        },
        {
          "output_type": "display_data",
          "data": {
            "text/plain": [
              "<IPython.core.display.Markdown object>"
            ],
            "text/markdown": "`1.0`, `2.0.0.dev0`, `2.0.0`, `2.2.3`, `2.2.4`, `3.1.3`, `3.1.4`, `3.4.0`, `3.7.0`, `3.7.1`, `3.8.0`, `4.1.0`, `4.4.0`, `4.4.1`, `4.4.3`, `4.5.0`, `4.5.2`, `4.6.1`, `4.6.2`, `4.7.0`, `4.7.1`, `4.7.2`, `4.7.4`, `4.7.6`, `4.8.1`, `4.8.2`, `4.8.3`, `4.8.4`, `4.9.0`, `4.10.0`, `4.11.0`, `4.11.1`, `4.11.2`, `4.12.0`, `4.13.0`, `4.14.0`, `4.15.0`, `4.16.0`, `4.17.0`, `4.17.1`, `4.18.0`, `4.19.1`, `4.19.1.post1`, `4.19.2`, `4.19.4`, `4.19.5`, `4.19.6`, `4.19.7`, `4.19.8`, `4.19.9`, `4.20.0`, `4.21.0`, `4.22.0`, `4.23.0`, `4.23.1`, `4.23.2`, `4.23.3`, `4.23.4`, `4.24.0`, `4.25.0`, `4.26.0`, `4.27.0`, `4.28.0`, `4.28.1`, `4.29.0`, `4.29.1`, `4.30.0`, `4.31.0`, `4.31.1`, `4.32.0`, `4.32.1`, `4.32.2`, `4.33.0`, `4.34.0`, `4.35.0`, `4.36.0`, `4.36.1`, `4.37.0`, `4.38.0`, `4.39.0`, `4.40.0`, `4.40.1`, `4.40.2`, `4.41.0`, `4.41.1`, `4.42.0`, `4.42.1`, `4.43.0`, `4.44.0`, `4.44.1`, `4.45.0`, `4.46.0`, `4.46.1`, `4.47.0`, `4.48.0`, `4.48.1`, `4.48.2`, `4.49.0`, `4.50.0`, `4.50.1`, `4.50.2`, `4.51.0`, `4.52.0`, `4.53.0`, `4.54.0`, `4.54.1`, `4.55.0`, `4.55.1`, `4.55.2`, `4.56.0`, `4.56.1`, `4.56.2`, `4.57.0`, `4.58.0`, `4.59.0`, `4.60.0`, `4.61.0`, `4.61.1`, `4.61.2`, `4.62.0`, `4.62.1`, `4.62.2`, `4.62.3`, `4.63.0`, `4.63.1`, `4.63.2`, `4.64.0`, `4.64.1`, `4.65.0`, `4.65.1`, `4.65.2`, `4.66.0`, `4.66.1`, `4.66.2`"
          },
          "metadata": {}
        },
        {
          "output_type": "display_data",
          "data": {
            "text/plain": [
              "<IPython.core.display.Markdown object>"
            ],
            "text/markdown": "### Release history for **neural_compressor**: Neural network optimization toolkit."
          },
          "metadata": {}
        },
        {
          "output_type": "display_data",
          "data": {
            "text/plain": [
              "<IPython.core.display.Markdown object>"
            ],
            "text/markdown": "`0.1`, `1.7`, `1.7.1`, `1.7.2`, `1.7.3`, `1.8`, `1.8.1`, `1.9`, `1.9.1`, `1.10.1`, `1.11`, `1.12`, `1.13`, `1.13.1`, `1.14`, `1.14.1`, `1.14.2`, `2.0`, `2.1`, `2.1.1`, `2.2`, `2.2.1`, `2.3`, `2.3.1`, `2.3.2`, `2.4`, `2.4.1`, `2.5`, `2.5.1`"
          },
          "metadata": {}
        },
        {
          "output_type": "display_data",
          "data": {
            "text/plain": [
              "<IPython.core.display.Markdown object>"
            ],
            "text/markdown": "### Release history for **onnx**: Open Neural Network Exchange format."
          },
          "metadata": {}
        },
        {
          "output_type": "display_data",
          "data": {
            "text/plain": [
              "<IPython.core.display.Markdown object>"
            ],
            "text/markdown": "`0.1`, `0.2`, `0.2.1`, `1.0.0`, `1.0.1`, `1.1.0`, `1.1.1`, `1.1.2`, `1.2.1`, `1.2.2`, `1.2.3`, `1.3.0`, `1.4.0`, `1.4.1`, `1.5.0`, `1.6.0`, `1.7.0`, `1.8.0`, `1.8.1`, `1.9.0`, `1.10.0`, `1.10.1`, `1.10.2`, `1.11.0`, `1.12.0`, `1.13.0`, `1.13.1`, `1.14.0`, `1.14.1`, `1.15.0`, `1.16.0`"
          },
          "metadata": {}
        },
        {
          "output_type": "display_data",
          "data": {
            "text/plain": [
              "<IPython.core.display.Markdown object>"
            ],
            "text/markdown": "### Release history for **pandas**: Data analysis and manipulation library."
          },
          "metadata": {}
        },
        {
          "output_type": "display_data",
          "data": {
            "text/plain": [
              "<IPython.core.display.Markdown object>"
            ],
            "text/markdown": "`0.1`, `0.2`, `0.3.0`, `0.4.0`, `0.4.1`, `0.4.2`, `0.4.3`, `0.5.0`, `0.6.0`, `0.6.1`, `0.7.0`, `0.7.1`, `0.7.2`, `0.7.3`, `0.8.0`, `0.8.1`, `0.9.0`, `0.9.1`, `0.10.0`, `0.10.1`, `0.11.0`, `0.12.0`, `0.13.0`, `0.13.1`, `0.14.0`, `0.14.1`, `0.15.0`, `0.15.1`, `0.15.2`, `0.16.0`, `0.16.1`, `0.16.2`, `0.17.0`, `0.17.1`, `0.18.0`, `0.18.1`, `0.19.0`, `0.19.1`, `0.19.2`, `0.20.0`, `0.20.1`, `0.20.2`, `0.20.3`, `0.21.0`, `0.21.1`, `0.22.0`, `0.23.0`, `0.23.1`, `0.23.2`, `0.23.3`, `0.23.4`, `0.24.0`, `0.24.1`, `0.24.2`, `0.25.0`, `0.25.1`, `0.25.2`, `0.25.3`, `1.0.0`, `1.0.1`, `1.0.2`, `1.0.3`, `1.0.4`, `1.0.5`, `1.1.0`, `1.1.1`, `1.1.2`, `1.1.3`, `1.1.4`, `1.1.5`, `1.2.0`, `1.2.1`, `1.2.2`, `1.2.3`, `1.2.4`, `1.2.5`, `1.3.0`, `1.3.1`, `1.3.2`, `1.3.3`, `1.3.4`, `1.3.5`, `1.4.0rc0`, `1.4.0`, `1.4.1`, `1.4.2`, `1.4.3`, `1.4.4`, `1.5.0rc0`, `1.5.0`, `1.5.1`, `1.5.2`, `1.5.3`, `2.0.0rc0`, `2.0.0rc1`, `2.0.0`, `2.0.1`, `2.0.2`, `2.0.3`, `2.1.0rc0`, `2.1.0`, `2.1.1`, `2.1.2`, `2.1.3`, `2.1.4`, `2.2.0rc0`, `2.2.0`, `2.2.1`"
          },
          "metadata": {}
        },
        {
          "output_type": "display_data",
          "data": {
            "text/plain": [
              "<IPython.core.display.Markdown object>"
            ],
            "text/markdown": "### Release history for **scipy**: Scientific computing and technical computing."
          },
          "metadata": {}
        },
        {
          "output_type": "display_data",
          "data": {
            "text/plain": [
              "<IPython.core.display.Markdown object>"
            ],
            "text/markdown": "`0.4.4`, `0.5.2`, `0.6.0`, `0.7.0`, `0.7.2`, `0.8.0`, `0.9.0`, `0.10.0`, `0.10.1`, `0.11.0`, `0.12.0`, `0.12.1`, `0.13.0`, `0.13.1`, `0.13.2`, `0.13.3`, `0.14.0`, `0.14.1`, `0.15.0`, `0.15.1`, `0.16.0`, `0.16.1`, `0.17.0`, `0.17.1`, `0.18.0`, `0.18.1`, `0.19.0`, `0.19.1`, `1.0.0`, `1.0.1`, `1.1.0`, `1.2.0`, `1.2.1`, `1.2.2`, `1.2.3`, `1.3.0`, `1.3.1`, `1.3.2`, `1.3.3`, `1.4.0`, `1.4.1`, `1.5.0`, `1.5.1`, `1.5.2`, `1.5.3`, `1.5.4`, `1.6.0`, `1.6.1`, `1.6.2`, `1.6.3`, `1.7.0`, `1.7.1`, `1.7.2`, `1.7.3`, `1.8.0rc1`, `1.8.0rc2`, `1.8.0rc3`, `1.8.0rc4`, `1.8.0`, `1.8.1`, `1.9.0rc1`, `1.9.0rc2`, `1.9.0rc3`, `1.9.0`, `1.9.1`, `1.9.2`, `1.9.3`, `1.10.0rc1`, `1.10.0rc2`, `1.10.0`, `1.10.1`, `1.11.0rc1`, `1.11.0rc2`, `1.11.0`, `1.11.1`, `1.11.2`, `1.11.3`, `1.11.4`, `1.12.0rc1`, `1.12.0rc2`, `1.12.0`, `1.13.0rc1`, `1.13.0`"
          },
          "metadata": {}
        }
      ]
    },
    {
      "cell_type": "markdown",
      "source": [
        "## Package versions and dates"
      ],
      "metadata": {
        "id": "4jBAatIMwfG1"
      }
    },
    {
      "cell_type": "code",
      "source": [
        "import requests\n",
        "from packaging import version\n",
        "from IPython.display import display, Markdown\n",
        "\n",
        "#Dictionary of packages with their brief descriptions\n",
        "packages = {\n",
        "    \"deeplake\": \"Data lake management and operations.\",\n",
        "    \"openai\": \"OpenAI's API client library.\",\n",
        "    \"tiktoken\": \"a fast  Byte-Pair Encoding (BPE) tokenizer for use with OpenAI's models.\",\n",
        "    \"transformers\": \"State-of-the-art NLP models and pipelines.\",\n",
        "    \"torch\": \"PyTorch, a deep learning framework.\",\n",
        "    \"numpy\": \"Fundamental package for scientific computing.\",\n",
        "    \"deepspeed\": \"Deep learning optimization library.\",\n",
        "    \"trl\": \"Transformers Reinforcement Learning.\",\n",
        "    \"peft\": \"Predictive Ensemble Forecasting Tool.\",\n",
        "    \"wandb\": \"Weights & Biases for machine learning experiment tracking.\",\n",
        "    \"bitsandbytes\": \"Efficient deep learning training.\",\n",
        "    \"accelerate\": \"Simplify multi-GPU/multi-node training.\",\n",
        "    \"tqdm\": \"Fast, extensible progress bar for loops.\",\n",
        "    \"neural_compressor\": \"Neural network optimization toolkit.\",\n",
        "    \"onnx\": \"Open Neural Network Exchange format.\",\n",
        "    \"pandas\": \"Data analysis and manipulation library.\",\n",
        "    \"scipy\": \"Scientific computing and technical computing.\"\n",
        "}\n",
        "for package, description in packages.items():\n",
        "    # Print the package name and description\n",
        "    display(Markdown(f'### Release history for **{package}**: {description}'))\n",
        "\n",
        "    # Get the package information from PyPI\n",
        "    response = requests.get(f'https://pypi.org/pypi/{package}/json')\n",
        "\n",
        "    # Check if the request was successful\n",
        "    if response.status_code == 200:\n",
        "        data = response.json()\n",
        "        releases = data.get('releases', {})\n",
        "\n",
        "        # Create a list to hold version and date info\n",
        "        version_date_list = []\n",
        "\n",
        "        for version_key, releases_info in releases.items():\n",
        "            if releases_info:\n",
        "                # Get the latest upload time for the version\n",
        "                latest_release_date = releases_info[-1]['upload_time_iso_8601'].split('T')[0]\n",
        "                version_date_list.append((version_key, latest_release_date))\n",
        "\n",
        "        # Sort the list by version\n",
        "        sorted_version_dates = sorted(version_date_list, key=lambda x: version.parse(x[0]))\n",
        "\n",
        "        # Gather all versions and dates in a Markdown string\n",
        "        versions_markdown = ', '.join(f'`{ver}: {date}`' for ver, date in sorted_version_dates)\n",
        "\n",
        "        # Display the versions and dates\n",
        "        display(Markdown(versions_markdown))\n",
        "    else:\n",
        "        display(Markdown(f'Failed to fetch release history for **{package}**'))"
      ],
      "metadata": {
        "colab": {
          "base_uri": "https://localhost:8080/",
          "height": 1000
        },
        "id": "yx_9fGUqf157",
        "outputId": "4d2412cb-a544-4821-9795-7d467d966b19"
      },
      "execution_count": 2,
      "outputs": [
        {
          "output_type": "display_data",
          "data": {
            "text/plain": [
              "<IPython.core.display.Markdown object>"
            ],
            "text/markdown": "### Release history for **deeplake**: Data lake management and operations."
          },
          "metadata": {}
        },
        {
          "output_type": "display_data",
          "data": {
            "text/plain": [
              "<IPython.core.display.Markdown object>"
            ],
            "text/markdown": "`0.0.1: 2022-06-17`, `0.0.2: 2022-08-26`, `0.0.3: 2022-08-30`, `0.0.4: 2022-08-30`, `0.0.5: 2022-09-12`, `0.0.6: 2022-09-13`, `2.8.6: 2022-09-28`, `2.8.7: 2022-09-28`, `3.0.0: 2022-09-28`, `3.0.1: 2022-09-28`, `3.0.2: 2022-09-28`, `3.0.3: 2022-09-28`, `3.0.4: 2022-09-28`, `3.0.6: 2022-09-30`, `3.0.7: 2022-10-05`, `3.0.8: 2022-10-06`, `3.0.9: 2022-10-11`, `3.0.10: 2022-10-13`, `3.0.11: 2022-10-27`, `3.0.12: 2022-10-27`, `3.0.13: 2022-10-27`, `3.0.14: 2022-11-01`, `3.0.15: 2022-11-04`, `3.0.16: 2022-11-09`, `3.0.17: 2022-11-10`, `3.0.18: 2022-11-11`, `3.1.0: 2022-11-17`, `3.1.1: 2022-11-29`, `3.1.2: 2022-12-01`, `3.1.3: 2022-12-09`, `3.1.4: 2022-12-15`, `3.1.5: 2022-12-22`, `3.1.6: 2022-12-28`, `3.1.7: 2022-12-30`, `3.1.8: 2023-01-04`, `3.1.9: 2023-01-09`, `3.1.10: 2023-01-16`, `3.1.11: 2023-01-17`, `3.1.12: 2023-01-19`, `3.2.0: 2023-01-23`, `3.2.1: 2023-01-23`, `3.2.2: 2023-01-25`, `3.2.3: 2023-01-30`, `3.2.4: 2023-01-31`, `3.2.5: 2023-02-04`, `3.2.6: 2023-02-07`, `3.2.7: 2023-02-11`, `3.2.8: 2023-02-16`, `3.2.9: 2023-02-20`, `3.2.10: 2023-02-27`, `3.2.11: 2023-02-27`, `3.2.12: 2023-03-01`, `3.2.13: 2023-03-03`, `3.2.14: 2023-03-08`, `3.2.15: 2023-03-08`, `3.2.16: 2023-03-15`, `3.2.17: 2023-03-20`, `3.2.18: 2023-03-22`, `3.2.19: 2023-03-29`, `3.2.20: 2023-03-31`, `3.2.21: 2023-03-31`, `3.2.22: 2023-04-11`, `3.3.0: 2023-04-21`, `3.3.1: 2023-04-27`, `3.3.2: 2023-04-27`, `3.4.0: 2023-05-02`, `3.4.1: 2023-05-09`, `3.4.2: 2023-05-12`, `3.4.3: 2023-05-12`, `3.4.4: 2023-05-16`, `3.5.0: 2023-05-17`, `3.5.1: 2023-05-18`, `3.5.2: 2023-05-19`, `3.5.3: 2023-05-26`, `3.5.4: 2023-06-01`, `3.6.0: 2023-06-07`, `3.6.1: 2023-06-08`, `3.6.2: 2023-06-09`, `3.6.3: 2023-06-13`, `3.6.4: 2023-06-16`, `3.6.5: 2023-06-20`, `3.6.6: 2023-06-23`, `3.6.7: 2023-06-28`, `3.6.8: 2023-07-07`, `3.6.9: 2023-07-11`, `3.6.10: 2023-07-11`, `3.6.11: 2023-07-17`, `3.6.12: 2023-07-21`, `3.6.13: 2023-07-25`, `3.6.14: 2023-07-25`, `3.6.15: 2023-08-01`, `3.6.16: 2023-08-04`, `3.6.17: 2023-08-05`, `3.6.18: 2023-08-10`, `3.6.19: 2023-08-15`, `3.6.20: 2023-08-24`, `3.6.21: 2023-08-24`, `3.6.22: 2023-08-29`, `3.6.23: 2023-09-06`, `3.6.24: 2023-09-07`, `3.6.25: 2023-09-08`, `3.6.26: 2023-09-18`, `3.7.0: 2023-09-22`, `3.7.1: 2023-09-26`, `3.7.2: 2023-09-29`, `3.7.3: 2023-10-04`, `3.8.0: 2023-10-09`, `3.8.1: 2023-10-15`, `3.8.2: 2023-10-17`, `3.8.3: 2023-10-24`, `3.8.4: 2023-11-03`, `3.8.5: 2023-11-15`, `3.8.6: 2023-11-15`, `3.8.7: 2023-11-21`, `3.8.8: 2023-11-22`, `3.8.9: 2023-11-29`, `3.8.10: 2023-12-06`, `3.8.11: 2023-12-08`, `3.8.12: 2023-12-13`, `3.8.13: 2023-12-21`, `3.8.14: 2024-01-04`, `3.8.15: 2024-01-18`, `3.8.16: 2024-01-19`, `3.8.17: 2024-01-24`, `3.8.18: 2024-02-01`, `3.8.19: 2024-02-07`, `3.8.20: 2024-02-16`, `3.8.21: 2024-02-21`, `3.8.22: 2024-02-28`, `3.8.23: 2024-03-07`, `3.8.24: 2024-03-13`, `3.8.25: 2024-03-15`, `3.8.26: 2024-03-19`, `3.8.27: 2024-03-20`, `3.8.28: 2024-04-05`, `3.9.0: 2024-04-05`"
          },
          "metadata": {}
        },
        {
          "output_type": "display_data",
          "data": {
            "text/plain": [
              "<IPython.core.display.Markdown object>"
            ],
            "text/markdown": "### Release history for **openai**: OpenAI's API client library."
          },
          "metadata": {}
        },
        {
          "output_type": "display_data",
          "data": {
            "text/plain": [
              "<IPython.core.display.Markdown object>"
            ],
            "text/markdown": "`0.0.2: 2020-02-18`, `0.1.0: 2020-06-13`, `0.1.1: 2020-06-13`, `0.1.2: 2020-06-13`, `0.1.3: 2020-06-13`, `0.2.0: 2020-06-13`, `0.2.1: 2020-06-13`, `0.2.3: 2020-07-07`, `0.2.4: 2020-07-12`, `0.2.5: 2020-10-05`, `0.2.6: 2020-10-24`, `0.3.0: 2021-01-27`, `0.4.0: 2021-03-04`, `0.6.0: 2021-03-18`, `0.6.1: 2021-03-19`, `0.6.2: 2021-03-20`, `0.6.3: 2021-04-12`, `0.6.4: 2021-05-21`, `0.7.0: 2021-06-11`, `0.8.0: 2021-06-17`, `0.9.0: 2021-06-29`, `0.9.1: 2021-06-30`, `0.9.2: 2021-06-30`, `0.9.3: 2021-06-30`, `0.9.4: 2021-07-12`, `0.10.0: 2021-07-14`, `0.10.1: 2021-07-14`, `0.10.2: 2021-07-29`, `0.10.3: 2021-08-31`, `0.10.4: 2021-09-09`, `0.10.5: 2021-10-01`, `0.11.0: 2021-10-27`, `0.11.1: 2021-12-02`, `0.11.2: 2021-12-04`, `0.11.3: 2021-12-04`, `0.11.4: 2021-12-14`, `0.11.5: 2021-12-21`, `0.11.6: 2022-01-21`, `0.12.0: 2022-01-22`, `0.13.0: 2022-01-25`, `0.14.0: 2022-02-02`, `0.15.0: 2022-02-24`, `0.16.0: 2022-03-17`, `0.18.0: 2022-04-08`, `0.18.1: 2022-04-15`, `0.19.0: 2022-05-24`, `0.20.0: 2022-06-16`, `0.22.0: 2022-07-26`, `0.22.1: 2022-08-02`, `0.23.0: 2022-08-24`, `0.23.1: 2022-09-28`, `0.24.0: 2022-10-21`, `0.25.0: 2022-11-02`, `0.26.0: 2023-01-06`, `0.26.1: 2023-01-13`, `0.26.2: 2023-01-24`, `0.26.3: 2023-01-25`, `0.26.4: 2023-01-26`, `0.26.5: 2023-02-07`, `0.27.0: 2023-03-01`, `0.27.1: 2023-03-08`, `0.27.2: 2023-03-11`, `0.27.3: 2023-04-03`, `0.27.4: 2023-04-04`, `0.27.5: 2023-04-27`, `0.27.6: 2023-05-01`, `0.27.7: 2023-05-19`, `0.27.8: 2023-06-07`, `0.27.9: 2023-08-22`, `0.27.10: 2023-08-30`, `0.28.0: 2023-08-31`, `0.28.1: 2023-09-26`, `1.0.0b1: 2023-09-29`, `1.0.0b2: 2023-10-12`, `1.0.0b3: 2023-10-17`, `1.0.0rc1: 2023-10-28`, `1.0.0rc2: 2023-11-03`, `1.0.0rc3: 2023-11-06`, `1.0.0: 2023-11-06`, `1.0.1: 2023-11-06`, `1.1.0: 2023-11-06`, `1.1.1: 2023-11-06`, `1.1.2: 2023-11-08`, `1.2.0: 2023-11-09`, `1.2.1: 2023-11-09`, `1.2.2: 2023-11-09`, `1.2.3: 2023-11-10`, `1.2.4: 2023-11-13`, `1.3.0: 2023-11-15`, `1.3.1: 2023-11-16`, `1.3.2: 2023-11-16`, `1.3.3: 2023-11-17`, `1.3.4: 2023-11-21`, `1.3.5: 2023-11-22`, `1.3.6: 2023-11-29`, `1.3.7: 2023-12-01`, `1.3.8: 2023-12-09`, `1.3.9: 2023-12-13`, `1.4.0: 2023-12-15`, `1.5.0: 2023-12-17`, `1.6.0: 2023-12-19`, `1.6.1: 2023-12-22`, `1.7.0: 2024-01-09`, `1.7.1: 2024-01-10`, `1.7.2: 2024-01-12`, `1.8.0: 2024-01-16`, `1.9.0: 2024-01-21`, `1.10.0: 2024-01-25`, `1.11.0: 2024-02-03`, `1.11.1: 2024-02-04`, `1.12.0: 2024-02-09`, `1.13.3: 2024-02-28`, `1.13.4: 2024-03-13`, `1.14.0: 2024-03-13`, `1.14.1: 2024-03-15`, `1.14.2: 2024-03-19`, `1.14.3: 2024-03-25`, `1.16.0: 2024-04-01`, `1.16.1: 2024-04-02`, `1.16.2: 2024-04-04`"
          },
          "metadata": {}
        },
        {
          "output_type": "display_data",
          "data": {
            "text/plain": [
              "<IPython.core.display.Markdown object>"
            ],
            "text/markdown": "### Release history for **tiktoken**: a fast  Byte-Pair Encoding (BPE) tokenizer for use with OpenAI's models."
          },
          "metadata": {}
        },
        {
          "output_type": "display_data",
          "data": {
            "text/plain": [
              "<IPython.core.display.Markdown object>"
            ],
            "text/markdown": "`0.1.1: 2022-12-15`, `0.1.2: 2023-01-03`, `0.2.0: 2023-02-03`, `0.3.0: 2023-03-02`, `0.3.1: 2023-03-13`, `0.3.2: 2023-03-17`, `0.3.3: 2023-03-28`, `0.4.0: 2023-05-07`, `0.5.0: 2023-09-12`, `0.5.1: 2023-09-13`, `0.5.2: 2023-12-03`, `0.6.0: 2024-02-09`"
          },
          "metadata": {}
        },
        {
          "output_type": "display_data",
          "data": {
            "text/plain": [
              "<IPython.core.display.Markdown object>"
            ],
            "text/markdown": "### Release history for **transformers**: State-of-the-art NLP models and pipelines."
          },
          "metadata": {}
        },
        {
          "output_type": "display_data",
          "data": {
            "text/plain": [
              "<IPython.core.display.Markdown object>"
            ],
            "text/markdown": "`0.1: 2016-08-17`, `2.0.0: 2019-09-26`, `2.1.0: 2019-10-09`, `2.1.1: 2019-10-11`, `2.2.0: 2019-11-26`, `2.2.1: 2019-12-03`, `2.2.2: 2019-12-13`, `2.3.0: 2019-12-20`, `2.4.0: 2020-01-31`, `2.4.1: 2020-01-31`, `2.5.0: 2020-02-19`, `2.5.1: 2020-02-24`, `2.6.0: 2020-03-24`, `2.7.0: 2020-03-30`, `2.8.0: 2020-04-06`, `2.9.0: 2020-05-07`, `2.9.1: 2020-05-14`, `2.10.0: 2020-05-22`, `2.11.0: 2020-06-02`, `3.0.0: 2020-06-29`, `3.0.1: 2020-07-03`, `3.0.2: 2020-07-06`, `3.1.0: 2020-09-01`, `3.2.0: 2020-09-22`, `3.3.0: 2020-09-28`, `3.3.1: 2020-09-29`, `3.4.0: 2020-10-20`, `3.5.0: 2020-11-10`, `3.5.1: 2020-11-13`, `4.0.0rc1: 2020-11-19`, `4.0.0: 2020-11-30`, `4.0.1: 2020-12-09`, `4.1.0: 2020-12-17`, `4.1.1: 2020-12-17`, `4.2.0: 2021-01-13`, `4.2.1: 2021-01-14`, `4.2.2: 2021-01-21`, `4.3.0rc1: 2021-02-04`, `4.3.0: 2021-02-08`, `4.3.1: 2021-02-09`, `4.3.2: 2021-02-09`, `4.3.3: 2021-02-24`, `4.4.0: 2021-03-16`, `4.4.1: 2021-03-16`, `4.4.2: 2021-03-18`, `4.5.0: 2021-04-06`, `4.5.1: 2021-04-13`, `4.6.0: 2021-05-12`, `4.6.1: 2021-05-20`, `4.7.0: 2021-06-17`, `4.8.0: 2021-06-23`, `4.8.1: 2021-06-24`, `4.8.2: 2021-06-30`, `4.9.0: 2021-07-22`, `4.9.1: 2021-07-26`, `4.9.2: 2021-08-09`, `4.10.0: 2021-08-31`, `4.10.1: 2021-09-10`, `4.10.2: 2021-09-10`, `4.10.3: 2021-09-22`, `4.11.0: 2021-09-27`, `4.11.1: 2021-09-29`, `4.11.2: 2021-09-30`, `4.11.3: 2021-10-06`, `4.12.0: 2021-10-28`, `4.12.1: 2021-10-29`, `4.12.2: 2021-10-29`, `4.12.3: 2021-11-03`, `4.12.4: 2021-11-16`, `4.12.5: 2021-11-17`, `4.13.0: 2021-12-09`, `4.14.0: 2021-12-15`, `4.14.1: 2021-12-15`, `4.15.0: 2021-12-22`, `4.16.0: 2022-01-27`, `4.16.1: 2022-01-28`, `4.16.2: 2022-01-31`, `4.17.0: 2022-03-03`, `4.18.0: 2022-04-06`, `4.19.0: 2022-05-12`, `4.19.1: 2022-05-13`, `4.19.2: 2022-05-16`, `4.19.3: 2022-06-09`, `4.19.4: 2022-06-10`, `4.20.0: 2022-06-16`, `4.20.1: 2022-06-21`, `4.21.0: 2022-07-27`, `4.21.1: 2022-08-04`, `4.21.2: 2022-08-24`, `4.21.3: 2022-09-05`, `4.22.0: 2022-09-14`, `4.22.1: 2022-09-16`, `4.22.2: 2022-09-27`, `4.23.0: 2022-10-10`, `4.23.1: 2022-10-11`, `4.24.0: 2022-11-01`, `4.25.0: 2022-12-01`, `4.25.1: 2022-12-01`, `4.26.0: 2023-01-24`, `4.26.1: 2023-02-09`, `4.27.0: 2023-03-15`, `4.27.1: 2023-03-15`, `4.27.2: 2023-03-20`, `4.27.3: 2023-03-23`, `4.27.4: 2023-03-29`, `4.28.0: 2023-04-13`, `4.28.1: 2023-04-14`, `4.29.0: 2023-05-10`, `4.29.1: 2023-05-11`, `4.29.2: 2023-05-16`, `4.30.0: 2023-06-08`, `4.30.1: 2023-06-09`, `4.30.2: 2023-06-13`, `4.31.0: 2023-07-18`, `4.32.0: 2023-08-22`, `4.32.1: 2023-08-28`, `4.33.0: 2023-09-05`, `4.33.1: 2023-09-06`, `4.33.2: 2023-09-15`, `4.33.3: 2023-09-27`, `4.34.0: 2023-10-03`, `4.34.1: 2023-10-18`, `4.35.0: 2023-11-02`, `4.35.1: 2023-11-14`, `4.35.2: 2023-11-15`, `4.36.0: 2023-12-11`, `4.36.1: 2023-12-14`, `4.36.2: 2023-12-18`, `4.37.0: 2024-01-22`, `4.37.1: 2024-01-24`, `4.37.2: 2024-01-29`, `4.38.0: 2024-02-21`, `4.38.1: 2024-02-22`, `4.38.2: 2024-03-01`, `4.39.0: 2024-03-21`, `4.39.1: 2024-03-22`, `4.39.2: 2024-03-28`, `4.39.3: 2024-04-02`"
          },
          "metadata": {}
        },
        {
          "output_type": "display_data",
          "data": {
            "text/plain": [
              "<IPython.core.display.Markdown object>"
            ],
            "text/markdown": "### Release history for **torch**: PyTorch, a deep learning framework."
          },
          "metadata": {}
        },
        {
          "output_type": "display_data",
          "data": {
            "text/plain": [
              "<IPython.core.display.Markdown object>"
            ],
            "text/markdown": "`1.0.0: 2018-12-07`, `1.0.1: 2019-02-05`, `1.0.1.post2: 2019-02-08`, `1.1.0: 2019-04-30`, `1.1.0.post2: 2019-06-21`, `1.2.0: 2019-08-08`, `1.3.0: 2019-10-10`, `1.3.0.post2: 2019-10-22`, `1.3.1: 2019-11-07`, `1.4.0: 2020-01-28`, `1.5.0: 2020-04-21`, `1.5.1: 2020-06-18`, `1.6.0: 2020-07-28`, `1.7.0: 2020-10-27`, `1.7.1: 2020-12-10`, `1.8.0: 2021-03-04`, `1.8.1: 2021-03-25`, `1.9.0: 2021-06-15`, `1.9.1: 2021-09-20`, `1.10.0: 2021-10-26`, `1.10.1: 2021-12-15`, `1.10.2: 2022-01-27`, `1.11.0: 2022-03-10`, `1.12.0: 2022-06-28`, `1.12.1: 2022-08-05`, `1.13.0: 2022-10-28`, `1.13.1: 2022-12-15`, `2.0.0: 2023-03-15`, `2.0.1: 2023-05-08`, `2.1.0: 2023-10-04`, `2.1.1: 2023-11-15`, `2.1.2: 2023-12-14`, `2.2.0: 2024-01-30`, `2.2.1: 2024-02-22`, `2.2.2: 2024-03-27`"
          },
          "metadata": {}
        },
        {
          "output_type": "display_data",
          "data": {
            "text/plain": [
              "<IPython.core.display.Markdown object>"
            ],
            "text/markdown": "### Release history for **numpy**: Fundamental package for scientific computing."
          },
          "metadata": {}
        },
        {
          "output_type": "display_data",
          "data": {
            "text/plain": [
              "<IPython.core.display.Markdown object>"
            ],
            "text/markdown": "`1.0: 2006-12-02`, `1.3.0: 2009-04-17`, `1.4.1: 2010-04-24`, `1.5.0: 2010-08-31`, `1.5.1: 2011-01-28`, `1.6.0: 2011-05-14`, `1.6.1: 2011-07-24`, `1.6.2: 2012-05-20`, `1.7.0: 2013-02-12`, `1.7.1: 2013-04-07`, `1.7.2: 2013-12-31`, `1.8.0: 2013-10-30`, `1.8.1: 2014-03-25`, `1.8.2: 2014-08-09`, `1.9.0: 2014-09-07`, `1.9.1: 2014-11-02`, `1.9.2: 2015-03-01`, `1.9.3: 2015-09-21`, `1.10.0: 2015-10-07`, `1.10.1: 2015-10-12`, `1.10.2: 2015-12-14`, `1.10.3: 2016-04-20`, `1.10.4: 2016-01-07`, `1.11.0: 2016-03-27`, `1.11.1: 2016-06-26`, `1.11.2: 2016-10-04`, `1.11.3: 2016-12-19`, `1.12.0: 2017-01-15`, `1.12.1: 2017-03-18`, `1.13.0: 2017-06-07`, `1.13.1: 2017-07-07`, `1.13.3: 2017-09-29`, `1.14.0: 2018-01-07`, `1.14.1: 2018-02-21`, `1.14.2: 2018-03-12`, `1.14.3: 2018-04-28`, `1.14.4: 2018-06-06`, `1.14.5: 2018-06-12`, `1.14.6: 2018-09-23`, `1.15.0: 2018-07-23`, `1.15.1: 2018-08-21`, `1.15.2: 2018-09-23`, `1.15.3: 2018-10-22`, `1.15.4: 2018-11-04`, `1.16.0: 2019-01-14`, `1.16.1: 2019-01-31`, `1.16.2: 2019-02-26`, `1.16.3: 2019-04-22`, `1.16.4: 2019-05-28`, `1.16.5: 2019-08-28`, `1.16.6: 2019-12-29`, `1.17.0: 2019-07-26`, `1.17.1: 2019-08-27`, `1.17.2: 2019-09-07`, `1.17.3: 2019-10-17`, `1.17.4: 2019-11-11`, `1.17.5: 2020-01-01`, `1.18.0: 2019-12-22`, `1.18.1: 2020-01-06`, `1.18.2: 2020-03-17`, `1.18.3: 2020-04-19`, `1.18.4: 2020-05-03`, `1.18.5: 2020-06-04`, `1.19.0: 2020-06-20`, `1.19.1: 2020-07-21`, `1.19.2: 2020-09-10`, `1.19.3: 2020-10-29`, `1.19.4: 2020-11-02`, `1.19.5: 2021-01-05`, `1.20.0: 2021-01-30`, `1.20.1: 2021-02-07`, `1.20.2: 2021-03-27`, `1.20.3: 2021-05-10`, `1.21.0: 2021-06-22`, `1.21.1: 2021-07-18`, `1.21.2: 2021-08-15`, `1.21.3: 2021-10-20`, `1.21.4: 2021-11-05`, `1.21.5: 2021-12-20`, `1.21.6: 2022-04-12`, `1.22.0: 2021-12-31`, `1.22.1: 2022-01-14`, `1.22.2: 2022-02-04`, `1.22.3: 2022-03-07`, `1.22.4: 2022-05-20`, `1.23.0rc1: 2022-05-26`, `1.23.0rc2: 2022-05-30`, `1.23.0rc3: 2022-06-11`, `1.23.0: 2022-06-22`, `1.23.1: 2022-07-09`, `1.23.2: 2022-08-14`, `1.23.3: 2022-09-09`, `1.23.4: 2022-10-12`, `1.23.5: 2022-11-20`, `1.24.0rc1: 2022-11-24`, `1.24.0rc2: 2022-12-04`, `1.24.0: 2022-12-18`, `1.24.1: 2022-12-26`, `1.24.2: 2023-02-05`, `1.24.3: 2023-04-22`, `1.24.4: 2023-06-26`, `1.25.0rc1: 2023-05-29`, `1.25.0: 2023-06-17`, `1.25.1: 2023-07-08`, `1.25.2: 2023-07-31`, `1.26.0b1: 2023-08-14`, `1.26.0rc1: 2023-09-06`, `1.26.0: 2023-09-16`, `1.26.1: 2023-10-14`, `1.26.2: 2023-11-12`, `1.26.3: 2024-01-02`, `1.26.4: 2024-02-06`, `2.0.0b1: 2024-03-12`, `2.0.0rc1: 2024-03-30`"
          },
          "metadata": {}
        },
        {
          "output_type": "display_data",
          "data": {
            "text/plain": [
              "<IPython.core.display.Markdown object>"
            ],
            "text/markdown": "### Release history for **deepspeed**: Deep learning optimization library."
          },
          "metadata": {}
        },
        {
          "output_type": "display_data",
          "data": {
            "text/plain": [
              "<IPython.core.display.Markdown object>"
            ],
            "text/markdown": "`0.3.1.dev1: 2020-10-22`, `0.3.1.dev2: 2020-10-22`, `0.3.1.dev3: 2020-10-29`, `0.3.1.dev4: 2020-11-02`, `0.3.1.dev5: 2020-11-11`, `0.3.1.dev6: 2020-11-11`, `0.3.1.dev7: 2020-11-11`, `0.3.1.dev8: 2020-11-12`, `0.3.1: 2020-11-12`, `0.3.2: 2020-11-14`, `0.3.3: 2020-11-19`, `0.3.4: 2020-11-19`, `0.3.5: 2020-11-25`, `0.3.6: 2020-11-25`, `0.3.7: 2020-11-25`, `0.3.8: 2020-12-09`, `0.3.9: 2020-12-23`, `0.3.10: 2021-01-08`, `0.3.11: 2021-02-02`, `0.3.12: 2021-03-12`, `0.3.13: 2021-03-16`, `0.3.14: 2021-04-08`, `0.3.15: 2021-04-19`, `0.3.16: 2021-04-30`, `0.4.0: 2021-06-08`, `0.4.1: 2021-06-23`, `0.4.2: 2021-07-01`, `0.4.3: 2021-07-12`, `0.4.4: 2021-07-30`, `0.4.5: 2021-08-10`, `0.5.0: 2021-08-17`, `0.5.1: 2021-08-26`, `0.5.2: 2021-09-14`, `0.5.3: 2021-09-16`, `0.5.4: 2021-10-06`, `0.5.5: 2021-11-02`, `0.5.6: 2021-11-11`, `0.5.7: 2021-11-20`, `0.5.8: 2021-12-01`, `0.5.9: 2022-01-04`, `0.5.10: 2022-01-19`, `0.6.0: 2022-03-07`, `0.6.1: 2022-03-28`, `0.6.3: 2022-04-27`, `0.6.4: 2022-05-06`, `0.6.5: 2022-05-25`, `0.6.6: 2022-07-18`, `0.6.7: 2022-07-19`, `0.7.0: 2022-08-01`, `0.7.1: 2022-08-23`, `0.7.2: 2022-08-25`, `0.7.3: 2022-09-19`, `0.7.4: 2022-10-21`, `0.7.5: 2022-11-14`, `0.7.6: 2022-12-01`, `0.7.7: 2022-12-12`, `0.8.0: 2023-01-17`, `0.8.1: 2023-02-17`, `0.8.2: 2023-03-07`, `0.8.3: 2023-03-20`, `0.9.0: 2023-04-13`, `0.9.1: 2023-04-21`, `0.9.2: 2023-05-03`, `0.9.3: 2023-06-02`, `0.9.4: 2023-06-09`, `0.9.5: 2023-06-22`, `0.10.0: 2023-07-17`, `0.10.1: 2023-08-18`, `0.10.2: 2023-08-31`, `0.10.3: 2023-09-11`, `0.11.0: 2023-10-06`, `0.11.1: 2023-10-09`, `0.11.2: 2023-11-03`, `0.12.0: 2023-11-03`, `0.12.1: 2023-11-04`, `0.12.2: 2023-11-04`, `0.12.3: 2023-11-13`, `0.12.4: 2023-12-01`, `0.12.5: 2023-12-16`, `0.12.6: 2023-12-21`, `0.13.0: 2024-01-19`, `0.13.1: 2024-01-23`, `0.13.2: 2024-02-12`, `0.13.3: 2024-02-23`, `0.13.4: 2024-02-26`, `0.13.5: 2024-03-06`, `0.14.0: 2024-03-08`"
          },
          "metadata": {}
        },
        {
          "output_type": "display_data",
          "data": {
            "text/plain": [
              "<IPython.core.display.Markdown object>"
            ],
            "text/markdown": "### Release history for **trl**: Transformers Reinforcement Learning."
          },
          "metadata": {}
        },
        {
          "output_type": "display_data",
          "data": {
            "text/plain": [
              "<IPython.core.display.Markdown object>"
            ],
            "text/markdown": "`0.0.1: 2020-03-30`, `0.0.2: 2020-07-17`, `0.0.3: 2021-02-28`, `0.1.0: 2022-05-15`, `0.2.0: 2023-01-25`, `0.2.1: 2023-01-25`, `0.3.0: 2023-03-01`, `0.3.1: 2023-03-02`, `0.4.0: 2023-03-09`, `0.4.1: 2023-03-17`, `0.4.2: 2023-06-07`, `0.4.3: 2023-06-08`, `0.4.4: 2023-06-08`, `0.4.5: 2023-06-23`, `0.4.6: 2023-06-23`, `0.4.7: 2023-07-13`, `0.5.0: 2023-08-02`, `0.6.0: 2023-08-24`, `0.7.0: 2023-08-30`, `0.7.1: 2023-08-30`, `0.7.2: 2023-10-12`, `0.7.3: 2023-11-08`, `0.7.4: 2023-11-08`, `0.7.5: 2023-12-22`, `0.7.6: 2023-12-22`, `0.7.7: 2023-12-26`, `0.7.8: 2024-01-09`, `0.7.9: 2024-01-09`, `0.7.10: 2024-01-19`, `0.7.11: 2024-02-16`, `0.8.0: 2024-03-19`, `0.8.1: 2024-03-20`"
          },
          "metadata": {}
        },
        {
          "output_type": "display_data",
          "data": {
            "text/plain": [
              "<IPython.core.display.Markdown object>"
            ],
            "text/markdown": "### Release history for **peft**: Predictive Ensemble Forecasting Tool."
          },
          "metadata": {}
        },
        {
          "output_type": "display_data",
          "data": {
            "text/plain": [
              "<IPython.core.display.Markdown object>"
            ],
            "text/markdown": "`0.0.1: 2023-01-19`, `0.0.2: 2023-01-19`, `0.1.0: 2023-02-10`, `0.2.0: 2023-03-09`, `0.3.0: 2023-05-03`, `0.4.0: 2023-07-17`, `0.5.0: 2023-08-22`, `0.6.0: 2023-11-03`, `0.6.1: 2023-11-09`, `0.6.2: 2023-11-14`, `0.7.0: 2023-12-06`, `0.7.1: 2023-12-12`, `0.8.0: 2024-01-30`, `0.8.1: 2024-01-30`, `0.8.2: 2024-02-01`, `0.9.0: 2024-02-28`, `0.10.0: 2024-03-21`"
          },
          "metadata": {}
        },
        {
          "output_type": "display_data",
          "data": {
            "text/plain": [
              "<IPython.core.display.Markdown object>"
            ],
            "text/markdown": "### Release history for **wandb**: Weights & Biases for machine learning experiment tracking."
          },
          "metadata": {}
        },
        {
          "output_type": "display_data",
          "data": {
            "text/plain": [
              "<IPython.core.display.Markdown object>"
            ],
            "text/markdown": "`0.1.0: 2017-03-24`, `0.2.0: 2017-03-27`, `0.2.1: 2017-03-30`, `0.2.2: 2017-03-31`, `0.3.0: 2017-04-06`, `0.3.1: 2017-04-06`, `0.3.2: 2017-04-07`, `0.3.3: 2017-04-16`, `0.4.0: 2017-04-16`, `0.4.1: 2017-04-18`, `0.4.2: 2017-04-19`, `0.4.3: 2017-04-22`, `0.4.4: 2017-04-22`, `0.4.5: 2017-04-25`, `0.4.6: 2017-04-28`, `0.4.7: 2017-05-10`, `0.4.8: 2017-05-10`, `0.4.9: 2017-05-24`, `0.4.10: 2017-05-24`, `0.4.11: 2017-07-04`, `0.4.12: 2017-07-04`, `0.4.13: 2017-07-13`, `0.4.14: 2017-07-24`, `0.4.15: 2017-09-02`, `0.4.16: 2017-09-04`, `0.4.17: 2017-09-07`, `0.4.18: 2017-09-08`, `0.4.19: 2017-09-08`, `0.4.20: 2017-09-20`, `0.4.21: 2017-09-21`, `0.4.22: 2017-09-22`, `0.4.23: 2017-09-28`, `0.4.24: 2017-09-28`, `0.4.25: 2017-09-29`, `0.4.26: 2017-09-30`, `0.4.27: 2017-09-30`, `0.4.28: 2017-10-01`, `0.4.29: 2017-10-04`, `0.4.30: 2017-10-10`, `0.4.31: 2017-10-23`, `0.4.32: 2017-10-23`, `0.4.33: 2017-11-02`, `0.4.34: 2017-11-07`, `0.4.35: 2017-11-21`, `0.4.36: 2017-12-18`, `0.4.37: 2017-12-20`, `0.4.38: 2017-12-20`, `0.4.39: 2017-12-20`, `0.4.40: 2017-12-20`, `0.4.41: 2018-01-08`, `0.4.42: 2018-01-09`, `0.4.43: 2018-01-10`, `0.4.44: 2018-01-11`, `0.4.45: 2018-01-19`, `0.4.46: 2018-01-23`, `0.5.0: 2018-02-16`, `0.5.1: 2018-02-20`, `0.5.2: 2018-02-26`, `0.5.3: 2018-02-26`, `0.5.4: 2018-02-28`, `0.5.5: 2018-03-03`, `0.5.7: 2018-03-07`, `0.5.8: 2018-03-08`, `0.5.9: 2018-03-17`, `0.5.10: 2018-03-17`, `0.5.11: 2018-03-18`, `0.5.12: 2018-03-27`, `0.5.13: 2018-04-04`, `0.5.14: 2018-04-05`, `0.5.16: 2018-04-12`, `0.5.17: 2018-05-09`, `0.5.18: 2018-05-09`, `0.5.19: 2018-05-09`, `0.5.20: 2018-05-14`, `0.5.21: 2018-05-15`, `0.5.22: 2018-05-17`, `0.6.2: 2018-05-29`, `0.6.3: 2018-05-30`, `0.6.4: 2018-05-31`, `0.6.5: 2018-05-31`, `0.6.6: 2018-06-04`, `0.6.10: 2018-06-19`, `0.6.11: 2018-06-25`, `0.6.12: 2018-06-25`, `0.6.13: 2018-06-29`, `0.6.14: 2018-07-10`, `0.6.15: 2018-07-18`, `0.6.16: 2018-07-25`, `0.6.17: 2018-07-26`, `0.6.18: 2018-08-24`, `0.6.19: 2018-10-05`, `0.6.20: 2018-10-06`, `0.6.21: 2018-10-12`, `0.6.22: 2018-10-19`, `0.6.23: 2018-10-19`, `0.6.24: 2018-11-09`, `0.6.25: 2018-11-09`, `0.6.26: 2018-11-09`, `0.6.29: 2018-11-27`, `0.6.30: 2018-12-07`, `0.6.31: 2018-12-21`, `0.6.32: 2018-12-23`, `0.6.33: 2019-01-22`, `0.6.34: 2019-01-24`, `0.6.35: 2019-01-29`, `0.7.0: 2019-03-01`, `0.7.1: 2019-03-13`, `0.7.2: 2019-03-19`, `0.7.3: 2019-04-16`, `0.8.0: 2019-05-17`, `0.8.1: 2019-05-23`, `0.8.2: 2019-06-20`, `0.8.3: 2019-06-27`, `0.8.4: 2019-07-08`, `0.8.5: 2019-07-12`, `0.8.6: 2019-08-01`, `0.8.7: 2019-08-08`, `0.8.8: 2019-08-14`, `0.8.9: 2019-08-20`, `0.8.10: 2019-09-13`, `0.8.11: 2019-09-19`, `0.8.12: 2019-09-20`, `0.8.13: 2019-10-16`, `0.8.14: 2019-11-01`, `0.8.15: 2019-11-06`, `0.8.16: 2019-11-21`, `0.8.17: 2019-12-02`, `0.8.18: 2019-12-05`, `0.8.19: 2019-12-19`, `0.8.20: 2020-01-11`, `0.8.21: 2020-01-16`, `0.8.22: 2020-01-24`, `0.8.23: 2020-02-03`, `0.8.24: 2020-02-04`, `0.8.25: 2020-02-05`, `0.8.26: 2020-02-10`, `0.8.27: 2020-02-11`, `0.8.28: 2020-02-22`, `0.8.29: 2020-03-05`, `0.8.30: 2020-03-20`, `0.8.31: 2020-03-27`, `0.8.32: 2020-04-15`, `0.8.33: 2020-04-25`, `0.8.34: 2020-04-28`, `0.8.35: 2020-05-01`, `0.8.36: 2020-05-12`, `0.9.1: 2020-06-09`, `0.9.2: 2020-07-01`, `0.9.3: 2020-07-10`, `0.9.4: 2020-07-24`, `0.9.5: 2020-08-17`, `0.9.6: 2020-08-28`, `0.9.7: 2020-09-08`, `0.10.0rc1: 2020-07-25`, `0.10.0rc2: 2020-07-29`, `0.10.0rc3: 2020-08-06`, `0.10.0rc4: 2020-08-18`, `0.10.0rc5: 2020-08-26`, `0.10.0rc6: 2020-09-03`, `0.10.0rc7: 2020-09-11`, `0.10.0rc8: 2020-09-11`, `0.10.0: 2020-09-11`, `0.10.1: 2020-09-17`, `0.10.2: 2020-09-20`, `0.10.3: 2020-09-29`, `0.10.4: 2020-09-29`, `0.10.5: 2020-10-07`, `0.10.6: 2020-10-15`, `0.10.7: 2020-10-15`, `0.10.8: 2020-10-22`, `0.10.9: 2020-11-05`, `0.10.10: 2020-11-09`, `0.10.11: 2020-11-18`, `0.10.12: 2020-12-04`, `0.10.13: 2021-01-11`, `0.10.14: 2021-01-16`, `0.10.15: 2021-01-24`, `0.10.16: 2021-02-01`, `0.10.17: 2021-02-02`, `0.10.18: 2021-02-09`, `0.10.19: 2021-02-15`, `0.10.20: 2021-02-22`, `0.10.21: 2021-03-02`, `0.10.22: 2021-03-10`, `0.10.23: 2021-03-22`, `0.10.24: 2021-03-30`, `0.10.25: 2021-04-05`, `0.10.26: 2021-04-13`, `0.10.27: 2021-04-19`, `0.10.28: 2021-04-28`, `0.10.29: 2021-05-04`, `0.10.30: 2021-05-07`, `0.10.31: 2021-05-27`, `0.10.32: 2021-06-10`, `0.10.33: 2021-06-30`, `0.11.0: 2021-07-15`, `0.11.1: 2021-07-29`, `0.11.2: 2021-08-02`, `0.12.0: 2021-08-10`, `0.12.1: 2021-08-26`, `0.12.2: 2021-09-15`, `0.12.3: 2021-09-30`, `0.12.4: 2021-10-05`, `0.12.5: 2021-10-19`, `0.12.6: 2021-10-27`, `0.12.7: 2021-11-19`, `0.12.8: 2021-12-16`, `0.12.9: 2021-12-17`, `0.12.10: 2022-02-01`, `0.12.11: 2022-03-01`, `0.12.12: 2022-04-05`, `0.12.13: 2022-04-07`, `0.12.14: 2022-04-08`, `0.12.15: 2022-04-21`, `0.12.16: 2022-05-03`, `0.12.17: 2022-05-26`, `0.12.18: 2022-06-09`, `0.12.19: 2022-06-22`, `0.12.20: 2022-06-29`, `0.12.21: 2022-07-05`, `0.13.0rc1: 2022-05-18`, `0.13.0rc2: 2022-05-26`, `0.13.0rc3: 2022-06-14`, `0.13.0rc4: 2022-06-24`, `0.13.0rc5: 2022-07-15`, `0.13.0rc6: 2022-08-01`, `0.13.0: 2022-08-03`, `0.13.1: 2022-08-05`, `0.13.2: 2022-08-22`, `0.13.3: 2022-09-08`, `0.13.4: 2022-10-05`, `0.13.5: 2022-11-03`, `0.13.6: 2022-12-06`, `0.13.7: 2022-12-14`, `0.13.8: 2023-01-10`, `0.13.9: 2023-01-12`, `0.13.10: 2023-02-07`, `0.13.11: 2023-03-07`, `0.14.0: 2023-03-14`, `0.14.1: 2023-04-05`, `0.14.2: 2023-04-07`, `0.15.0: 2023-04-19`, `0.15.1: 2023-05-02`, `0.15.2: 2023-05-05`, `0.15.3: 2023-05-17`, `0.15.4: 2023-06-06`, `0.15.5: 2023-07-05`, `0.15.6: 2023-07-24`, `0.15.7: 2023-07-25`, `0.15.8: 2023-08-01`, `0.15.9: 2023-08-28`, `0.15.10: 2023-09-06`, `0.15.11: 2023-09-21`, `0.15.12: 2023-10-04`, `0.16.0b1: 2023-09-18`, `0.16.0: 2023-11-07`, `0.16.1: 2023-12-05`, `0.16.2: 2024-01-09`, `0.16.3: 2024-02-06`, `0.16.4: 2024-03-05`, `0.16.5: 2024-03-25`, `0.16.6: 2024-04-03`"
          },
          "metadata": {}
        },
        {
          "output_type": "display_data",
          "data": {
            "text/plain": [
              "<IPython.core.display.Markdown object>"
            ],
            "text/markdown": "### Release history for **bitsandbytes**: Efficient deep learning training."
          },
          "metadata": {}
        },
        {
          "output_type": "display_data",
          "data": {
            "text/plain": [
              "<IPython.core.display.Markdown object>"
            ],
            "text/markdown": "`0.31.8: 2022-08-09`, `0.32.0: 2022-08-17`, `0.32.1: 2022-08-17`, `0.32.2: 2022-08-23`, `0.32.3: 2022-09-08`, `0.33.0: 2022-09-11`, `0.33.1: 2022-09-15`, `0.34.0: 2022-09-20`, `0.35.0: 2022-10-10`, `0.35.1: 2022-10-25`, `0.35.2: 2022-10-27`, `0.35.3: 2022-10-27`, `0.35.4: 2022-11-01`, `0.36.0: 2023-01-04`, `0.36.0.post1: 2023-01-04`, `0.36.0.post2: 2023-01-04`, `0.37.0: 2023-02-02`, `0.37.1: 2023-03-12`, `0.37.2: 2023-03-21`, `0.38.0: 2023-04-11`, `0.38.0.post1: 2023-04-11`, `0.38.0.post2: 2023-04-12`, `0.38.1: 2023-04-12`, `0.39.0: 2023-05-24`, `0.39.1: 2023-06-20`, `0.40.0: 2023-07-10`, `0.40.0.post1: 2023-07-10`, `0.40.0.post2: 2023-07-11`, `0.40.0.post3: 2023-07-11`, `0.40.0.post4: 2023-07-12`, `0.40.1: 2023-07-14`, `0.40.1.post1: 2023-07-15`, `0.40.2: 2023-07-17`, `0.41.0: 2023-07-22`, `0.41.1: 2023-08-04`, `0.41.2: 2023-11-08`, `0.41.2.post1: 2023-11-08`, `0.41.2.post2: 2023-11-09`, `0.41.3: 2023-12-06`, `0.41.3.post1: 2023-12-11`, `0.41.3.post2: 2023-12-11`, `0.42.0: 2024-01-08`, `0.43.0: 2024-03-08`"
          },
          "metadata": {}
        },
        {
          "output_type": "display_data",
          "data": {
            "text/plain": [
              "<IPython.core.display.Markdown object>"
            ],
            "text/markdown": "### Release history for **accelerate**: Simplify multi-GPU/multi-node training."
          },
          "metadata": {}
        },
        {
          "output_type": "display_data",
          "data": {
            "text/plain": [
              "<IPython.core.display.Markdown object>"
            ],
            "text/markdown": "`0.0.1: 2020-10-30`, `0.1.0: 2021-03-05`, `0.2.0: 2021-04-15`, `0.2.1: 2021-04-19`, `0.3.0: 2021-04-29`, `0.4.0: 2021-08-10`, `0.5.0: 2021-09-23`, `0.5.1: 2021-09-27`, `0.6.0: 2022-03-18`, `0.6.1: 2022-03-18`, `0.6.2: 2022-03-31`, `0.7.0: 2022-04-28`, `0.7.1: 2022-04-29`, `0.8.0: 2022-05-12`, `0.9.0: 2022-05-20`, `0.10.0: 2022-06-15`, `0.11.0: 2022-07-18`, `0.12.0: 2022-08-04`, `0.13.0: 2022-10-05`, `0.13.1: 2022-10-07`, `0.13.2: 2022-10-17`, `0.14.0: 2022-11-08`, `0.15.0: 2022-12-01`, `0.16.0: 2023-01-31`, `0.17.0: 2023-03-09`, `0.17.1: 2023-03-13`, `0.18.0: 2023-03-24`, `0.19.0: 2023-05-08`, `0.20.0: 2023-06-07`, `0.20.1: 2023-06-07`, `0.20.2: 2023-06-08`, `0.20.3: 2023-06-08`, `0.21.0: 2023-07-13`, `0.22.0: 2023-08-23`, `0.23.0: 2023-09-14`, `0.24.0: 2023-10-24`, `0.24.1: 2023-10-30`, `0.25.0: 2023-12-01`, `0.26.0: 2024-01-10`, `0.26.1: 2024-01-11`, `0.27.0: 2024-02-09`, `0.27.1: 2024-02-13`, `0.27.2: 2024-02-13`, `0.28.0: 2024-03-12`, `0.29.0: 2024-04-05`, `0.29.1: 2024-04-05`"
          },
          "metadata": {}
        },
        {
          "output_type": "display_data",
          "data": {
            "text/plain": [
              "<IPython.core.display.Markdown object>"
            ],
            "text/markdown": "### Release history for **tqdm**: Fast, extensible progress bar for loops."
          },
          "metadata": {}
        },
        {
          "output_type": "display_data",
          "data": {
            "text/plain": [
              "<IPython.core.display.Markdown object>"
            ],
            "text/markdown": "`1.0: 2013-10-26`, `2.0.0: 2015-10-11`, `2.2.3: 2015-11-07`, `2.2.4: 2015-11-08`, `3.1.3: 2015-11-28`, `3.1.4: 2015-11-28`, `3.4.0: 2015-12-18`, `3.7.0: 2016-01-13`, `3.7.1: 2016-01-13`, `3.8.0: 2016-01-31`, `4.1.0: 2016-04-07`, `4.4.0: 2016-04-07`, `4.4.1: 2016-04-13`, `4.4.3: 2016-04-24`, `4.5.0: 2016-04-25`, `4.5.2: 2016-05-15`, `4.6.1: 2016-05-15`, `4.6.2: 2016-05-15`, `4.7.0: 2016-05-15`, `4.7.1: 2016-05-23`, `4.7.2: 2016-05-30`, `4.7.4: 2016-06-04`, `4.7.6: 2016-06-26`, `4.8.1: 2016-07-25`, `4.8.2: 2016-07-30`, `4.8.3: 2016-08-01`, `4.8.4: 2016-08-17`, `4.9.0: 2016-10-31`, `4.10.0: 2016-11-12`, `4.11.0: 2017-01-12`, `4.11.1: 2017-01-20`, `4.11.2: 2017-01-24`, `4.12.0: 2017-05-28`, `4.13.0: 2017-05-29`, `4.14.0: 2017-05-29`, `4.15.0: 2017-07-22`, `4.16.0: 2017-09-20`, `4.17.0: 2017-09-20`, `4.17.1: 2017-09-22`, `4.18.0: 2017-09-30`, `4.19.1: 2017-10-03`, `4.19.1.post1: 2017-10-03`, `4.19.2: 2017-10-08`, `4.19.4: 2017-10-15`, `4.19.5: 2017-12-10`, `4.19.6: 2018-02-27`, `4.19.7: 2018-03-12`, `4.19.8: 2018-03-16`, `4.19.9: 2018-03-27`, `4.20.0: 2018-04-03`, `4.21.0: 2018-04-08`, `4.22.0: 2018-04-11`, `4.23.0: 2018-04-15`, `4.23.1: 2018-04-25`, `4.23.2: 2018-05-02`, `4.23.3: 2018-05-08`, `4.23.4: 2018-05-22`, `4.24.0: 2018-07-26`, `4.25.0: 2018-08-20`, `4.26.0: 2018-09-11`, `4.27.0: 2018-10-15`, `4.28.0: 2018-10-20`, `4.28.1: 2018-10-21`, `4.29.0: 2019-01-06`, `4.29.1: 2019-01-11`, `4.30.0: 2019-01-26`, `4.31.0: 2019-02-09`, `4.31.1: 2019-02-10`, `4.32.0: 2019-05-13`, `4.32.1: 2019-05-13`, `4.32.2: 2019-06-18`, `4.33.0: 2019-08-08`, `4.34.0: 2019-08-18`, `4.35.0: 2019-08-24`, `4.36.0: 2019-09-17`, `4.36.1: 2019-09-19`, `4.37.0: 2019-10-31`, `4.38.0: 2019-11-09`, `4.39.0: 2019-11-22`, `4.40.0: 2019-12-01`, `4.40.1: 2019-12-06`, `4.40.2: 2019-12-10`, `4.41.0: 2019-12-20`, `4.41.1: 2020-01-01`, `4.42.0: 2020-01-25`, `4.42.1: 2020-02-03`, `4.43.0: 2020-02-19`, `4.44.0: 2020-03-28`, `4.44.1: 2020-03-29`, `4.45.0: 2020-04-02`, `4.46.0: 2020-05-03`, `4.46.1: 2020-06-03`, `4.47.0: 2020-06-28`, `4.48.0: 2020-07-16`, `4.48.1: 2020-08-03`, `4.48.2: 2020-08-03`, `4.49.0: 2020-09-12`, `4.50.0: 2020-09-28`, `4.50.1: 2020-10-07`, `4.50.2: 2020-10-08`, `4.51.0: 2020-10-25`, `4.52.0: 2020-11-16`, `4.53.0: 2020-11-21`, `4.54.0: 2020-11-27`, `4.54.1: 2020-12-05`, `4.55.0: 2020-12-25`, `4.55.1: 2021-01-02`, `4.55.2: 2021-01-09`, `4.56.0: 2021-01-11`, `4.56.1: 2021-02-09`, `4.56.2: 2021-02-10`, `4.57.0: 2021-02-18`, `4.58.0: 2021-02-25`, `4.59.0: 2021-03-05`, `4.60.0: 2021-04-06`, `4.61.0: 2021-05-24`, `4.61.1: 2021-06-12`, `4.61.2: 2021-07-06`, `4.62.0: 2021-07-30`, `4.62.1: 2021-08-14`, `4.62.2: 2021-08-23`, `4.62.3: 2021-09-20`, `4.63.0: 2022-02-28`, `4.63.1: 2022-03-23`, `4.63.2: 2022-04-04`, `4.64.0: 2022-04-04`, `4.64.1: 2022-09-03`, `4.65.0: 2023-03-03`, `4.65.1: 2023-08-08`, `4.65.2: 2023-08-08`, `4.66.0: 2023-08-09`, `4.66.1: 2023-08-10`, `4.66.2: 2024-02-10`"
          },
          "metadata": {}
        },
        {
          "output_type": "display_data",
          "data": {
            "text/plain": [
              "<IPython.core.display.Markdown object>"
            ],
            "text/markdown": "### Release history for **neural_compressor**: Neural network optimization toolkit."
          },
          "metadata": {}
        },
        {
          "output_type": "display_data",
          "data": {
            "text/plain": [
              "<IPython.core.display.Markdown object>"
            ],
            "text/markdown": "`0.1: 2021-09-26`, `1.7: 2021-10-01`, `1.7.1: 2021-10-22`, `1.7.2: 2021-10-27`, `1.7.3: 2021-11-11`, `1.8: 2021-11-21`, `1.8.1: 2021-12-03`, `1.9: 2022-01-03`, `1.9.1: 2022-01-26`, `1.10.1: 2022-02-28`, `1.11: 2022-04-15`, `1.12: 2022-05-27`, `1.13: 2022-07-26`, `1.13.1: 2022-08-12`, `1.14: 2022-09-19`, `1.14.1: 2022-09-30`, `1.14.2: 2022-11-01`, `2.0: 2022-12-30`, `2.1: 2023-03-29`, `2.1.1: 2023-05-11`, `2.2: 2023-06-21`, `2.2.1: 2023-07-21`, `2.3: 2023-09-15`, `2.3.1: 2023-09-28`, `2.3.2: 2023-11-23`, `2.4: 2023-12-15`, `2.4.1: 2023-12-29`, `2.5: 2024-03-26`, `2.5.1: 2024-04-03`"
          },
          "metadata": {}
        },
        {
          "output_type": "display_data",
          "data": {
            "text/plain": [
              "<IPython.core.display.Markdown object>"
            ],
            "text/markdown": "### Release history for **onnx**: Open Neural Network Exchange format."
          },
          "metadata": {}
        },
        {
          "output_type": "display_data",
          "data": {
            "text/plain": [
              "<IPython.core.display.Markdown object>"
            ],
            "text/markdown": "`0.1: 2017-09-07`, `0.2: 2017-10-10`, `0.2.1: 2017-10-25`, `1.0.0: 2017-12-04`, `1.0.1: 2018-01-26`, `1.1.0: 2018-03-21`, `1.1.1: 2018-03-22`, `1.1.2: 2018-04-27`, `1.2.1: 2018-05-25`, `1.2.2: 2018-06-19`, `1.2.3: 2018-09-10`, `1.3.0: 2018-08-30`, `1.4.0: 2019-01-23`, `1.4.1: 2019-01-23`, `1.5.0: 2019-04-24`, `1.6.0: 2019-09-28`, `1.7.0: 2020-05-08`, `1.8.0: 2020-11-06`, `1.8.1: 2021-01-29`, `1.9.0: 2021-04-19`, `1.10.0: 2021-07-31`, `1.10.1: 2021-08-02`, `1.10.2: 2021-10-26`, `1.11.0: 2022-02-17`, `1.12.0: 2022-06-21`, `1.13.0: 2022-12-12`, `1.13.1: 2023-02-22`, `1.14.0: 2023-05-04`, `1.14.1: 2023-08-25`, `1.15.0: 2023-10-26`, `1.16.0: 2024-03-25`"
          },
          "metadata": {}
        },
        {
          "output_type": "display_data",
          "data": {
            "text/plain": [
              "<IPython.core.display.Markdown object>"
            ],
            "text/markdown": "### Release history for **pandas**: Data analysis and manipulation library."
          },
          "metadata": {}
        },
        {
          "output_type": "display_data",
          "data": {
            "text/plain": [
              "<IPython.core.display.Markdown object>"
            ],
            "text/markdown": "`0.1: 2009-12-26`, `0.2: 2010-05-18`, `0.3.0: 2011-02-20`, `0.4.0: 2011-09-12`, `0.4.1: 2011-09-26`, `0.4.2: 2011-10-03`, `0.4.3: 2011-10-10`, `0.5.0: 2011-10-25`, `0.6.0: 2011-11-26`, `0.6.1: 2011-12-14`, `0.7.0: 2012-02-09`, `0.7.1: 2012-02-29`, `0.7.2: 2012-03-16`, `0.7.3: 2012-04-12`, `0.8.0: 2012-06-29`, `0.8.1: 2012-07-22`, `0.9.0: 2012-10-08`, `0.9.1: 2012-11-15`, `0.10.0: 2012-12-17`, `0.10.1: 2013-01-22`, `0.11.0: 2013-04-23`, `0.12.0: 2013-07-24`, `0.13.0: 2014-01-15`, `0.13.1: 2014-02-09`, `0.14.0: 2014-05-30`, `0.14.1: 2014-07-10`, `0.15.0: 2014-10-19`, `0.15.1: 2014-11-08`, `0.15.2: 2014-12-11`, `0.16.0: 2015-03-22`, `0.16.1: 2015-05-11`, `0.16.2: 2015-06-13`, `0.17.0: 2015-10-09`, `0.17.1: 2015-11-20`, `0.18.0: 2016-03-12`, `0.18.1: 2016-05-05`, `0.19.0: 2016-10-02`, `0.19.1: 2016-11-03`, `0.19.2: 2016-12-24`, `0.20.0: 2017-05-05`, `0.20.1: 2017-05-05`, `0.20.2: 2017-06-05`, `0.20.3: 2017-07-07`, `0.21.0: 2017-10-28`, `0.21.1: 2017-12-13`, `0.22.0: 2017-12-31`, `0.23.0: 2018-05-16`, `0.23.1: 2018-06-13`, `0.23.2: 2018-07-06`, `0.23.3: 2018-07-07`, `0.23.4: 2018-08-04`, `0.24.0: 2019-01-25`, `0.24.1: 2019-02-04`, `0.24.2: 2019-03-14`, `0.25.0: 2019-07-19`, `0.25.1: 2019-08-22`, `0.25.2: 2019-10-19`, `0.25.3: 2019-11-01`, `1.0.0: 2020-01-30`, `1.0.1: 2020-02-05`, `1.0.2: 2020-03-15`, `1.0.3: 2020-03-18`, `1.0.4: 2020-05-29`, `1.0.5: 2020-06-18`, `1.1.0: 2020-07-28`, `1.1.1: 2020-08-20`, `1.1.2: 2020-09-08`, `1.1.3: 2020-10-05`, `1.1.4: 2020-10-30`, `1.1.5: 2020-12-07`, `1.2.0: 2020-12-26`, `1.2.1: 2021-01-20`, `1.2.2: 2021-02-09`, `1.2.3: 2021-03-02`, `1.2.4: 2021-04-12`, `1.2.5: 2021-06-22`, `1.3.0: 2021-07-04`, `1.3.1: 2021-07-25`, `1.3.2: 2021-08-15`, `1.3.3: 2021-09-12`, `1.3.4: 2021-10-17`, `1.3.5: 2021-12-12`, `1.4.0rc0: 2022-01-06`, `1.4.0: 2022-01-22`, `1.4.1: 2022-02-12`, `1.4.2: 2022-04-02`, `1.4.3: 2022-06-23`, `1.4.4: 2022-08-31`, `1.5.0rc0: 2022-08-24`, `1.5.0: 2022-09-19`, `1.5.1: 2022-10-19`, `1.5.2: 2022-11-23`, `1.5.3: 2023-01-19`, `2.0.0rc0: 2023-02-20`, `2.0.0rc1: 2023-03-16`, `2.0.0: 2023-04-03`, `2.0.1: 2023-04-24`, `2.0.2: 2023-05-29`, `2.0.3: 2023-06-28`, `2.1.0rc0: 2023-08-11`, `2.1.0: 2023-08-30`, `2.1.1: 2023-09-20`, `2.1.2: 2023-10-26`, `2.1.3: 2023-11-10`, `2.1.4: 2023-12-08`, `2.2.0rc0: 2023-12-22`, `2.2.0: 2024-01-20`, `2.2.1: 2024-02-23`"
          },
          "metadata": {}
        },
        {
          "output_type": "display_data",
          "data": {
            "text/plain": [
              "<IPython.core.display.Markdown object>"
            ],
            "text/markdown": "### Release history for **scipy**: Scientific computing and technical computing."
          },
          "metadata": {}
        },
        {
          "output_type": "display_data",
          "data": {
            "text/plain": [
              "<IPython.core.display.Markdown object>"
            ],
            "text/markdown": "`0.8.0: 2010-07-27`, `0.9.0: 2011-02-28`, `0.10.0: 2011-11-13`, `0.10.1: 2012-02-28`, `0.11.0: 2012-09-29`, `0.12.0: 2013-04-09`, `0.12.1: 2013-10-12`, `0.13.0: 2013-10-19`, `0.13.1: 2013-11-17`, `0.13.2: 2013-12-08`, `0.13.3: 2014-02-04`, `0.14.0: 2014-05-03`, `0.14.1: 2014-12-30`, `0.15.0: 2015-01-11`, `0.15.1: 2015-01-18`, `0.16.0: 2015-07-24`, `0.16.1: 2015-10-24`, `0.17.0: 2016-01-23`, `0.17.1: 2016-05-12`, `0.18.0: 2016-07-25`, `0.18.1: 2016-09-19`, `0.19.0: 2017-03-09`, `0.19.1: 2017-06-23`, `1.0.0: 2017-10-25`, `1.0.1: 2018-03-24`, `1.1.0: 2018-05-05`, `1.2.0: 2018-12-18`, `1.2.1: 2019-02-09`, `1.2.2: 2019-06-07`, `1.2.3: 2020-01-21`, `1.3.0: 2019-05-17`, `1.3.1: 2019-08-09`, `1.3.2: 2019-11-09`, `1.3.3: 2019-11-23`, `1.4.0: 2019-12-16`, `1.4.1: 2019-12-19`, `1.5.0: 2020-06-21`, `1.5.1: 2020-07-04`, `1.5.2: 2020-07-24`, `1.5.3: 2020-10-17`, `1.5.4: 2020-11-05`, `1.6.0: 2020-12-31`, `1.6.1: 2021-02-18`, `1.6.2: 2021-03-25`, `1.6.3: 2021-04-26`, `1.7.0: 2021-06-20`, `1.7.1: 2021-08-02`, `1.7.2: 2021-11-06`, `1.7.3: 2021-11-24`, `1.8.0rc1: 2021-12-11`, `1.8.0rc2: 2021-12-21`, `1.8.0rc3: 2022-01-22`, `1.8.0rc4: 2022-01-30`, `1.8.0: 2022-02-05`, `1.8.1: 2022-05-18`, `1.9.0rc1: 2022-06-24`, `1.9.0rc2: 2022-07-05`, `1.9.0rc3: 2022-07-23`, `1.9.0: 2022-07-29`, `1.9.1: 2022-08-27`, `1.9.2: 2022-10-08`, `1.9.3: 2022-10-20`, `1.10.0rc1: 2022-12-12`, `1.10.0rc2: 2022-12-25`, `1.10.0: 2023-01-03`, `1.10.1: 2023-02-19`, `1.11.0rc1: 2023-05-31`, `1.11.0rc2: 2023-06-16`, `1.11.0: 2023-06-25`, `1.11.1: 2023-06-28`, `1.11.2: 2023-08-17`, `1.11.3: 2023-09-27`, `1.11.4: 2023-11-18`, `1.12.0rc1: 2023-12-20`, `1.12.0rc2: 2024-01-12`, `1.12.0: 2024-01-20`, `1.13.0rc1: 2024-03-19`, `1.13.0: 2024-04-02`"
          },
          "metadata": {}
        }
      ]
    },
    {
      "cell_type": "markdown",
      "source": [
        "In a pandas dataframe"
      ],
      "metadata": {
        "id": "5FKiJDda4IiO"
      }
    },
    {
      "cell_type": "code",
      "source": [
        "import requests\n",
        "from packaging import version\n",
        "import pandas as pd\n",
        "from datetime import datetime\n",
        "\n",
        "# Define the date range\n",
        "begin_date = datetime.strptime(\"2023-04-10\", \"%Y-%m-%d\").date()\n",
        "end_date = datetime.strptime(\"2024-04-10\", \"%Y-%m-%d\").date()\n",
        "\n",
        "packages = {\n",
        "    \"deeplake\": \"Data lake management and operations.\",\n",
        "    \"openai\": \"OpenAI's API client library.\",\n",
        "    \"tiktoken\": \"a fast  Byte-Pair Encoding (BPE) tokenizer for use with OpenAI's models.\",\n",
        "    \"transformers\": \"State-of-the-art NLP models and pipelines.\",\n",
        "    \"torch\": \"PyTorch, a deep learning framework.\",\n",
        "    \"numpy\": \"Fundamental package for scientific computing.\",\n",
        "    \"deepspeed\": \"Deep learning optimization library.\",\n",
        "    \"trl\": \"Transformers Reinforcement Learning.\",\n",
        "    \"peft\": \"Predictive Ensemble Forecasting Tool.\",\n",
        "    \"wandb\": \"Weights & Biases for machine learning experiment tracking.\",\n",
        "    \"bitsandbytes\": \"Efficient deep learning training.\",\n",
        "    \"accelerate\": \"Simplify multi-GPU/multi-node training.\",\n",
        "    \"tqdm\": \"Fast, extensible progress bar for loops.\",\n",
        "    \"neural_compressor\": \"Neural network optimization toolkit.\",\n",
        "    \"onnx\": \"Open Neural Network Exchange format.\",\n",
        "    \"pandas\": \"Data analysis and manipulation library.\",\n",
        "    \"scipy\": \"Scientific computing and technical computing.\"\n",
        "}\n",
        "\n",
        "# Initialize an empty DataFrame\n",
        "date_range = pd.date_range(begin_date, end_date, freq='M')  # Monthly frequency\n",
        "df = pd.DataFrame(index=packages.keys(), columns=date_range.strftime('%Y-%m'))\n",
        "\n",
        "# Fetch version data and populate the DataFrame\n",
        "for package in packages.keys():\n",
        "    response = requests.get(f'https://pypi.org/pypi/{package}/json')\n",
        "    if response.status_code == 200:\n",
        "        data = response.json()\n",
        "        releases = data.get('releases', {})\n",
        "        for version_key, releases_info in releases.items():\n",
        "            if releases_info:\n",
        "                # Get the latest upload time for the version\n",
        "                latest_release_date = datetime.strptime(releases_info[-1]['upload_time_iso_8601'].split('T')[0], '%Y-%m-%d').date()\n",
        "                if begin_date <= latest_release_date <= end_date:\n",
        "                    # Determine the column for the release month\n",
        "                    release_month = latest_release_date.strftime('%Y-%m')\n",
        "                    # Add the version to the DataFrame\n",
        "                    df.at[package, release_month] = version_key\n",
        "\n",
        "# Replace NaN values with an empty string or any other placeholder\n",
        "df = df.fillna('')\n",
        "df"
      ],
      "metadata": {
        "colab": {
          "base_uri": "https://localhost:8080/",
          "height": 582
        },
        "id": "6munve2n4NDw",
        "outputId": "3adce827-4c9a-4d23-8f3b-babd1908c6ec"
      },
      "execution_count": 3,
      "outputs": [
        {
          "output_type": "execute_result",
          "data": {
            "text/plain": [
              "                  2023-04    2023-05 2023-06 2023-07   2023-08    2023-09  \\\n",
              "deeplake            3.3.2      3.5.3   3.6.7   3.6.9    3.6.22      3.7.2   \n",
              "openai             0.27.5     0.27.7  0.27.8            0.28.0    1.0.0b1   \n",
              "tiktoken                       0.4.0                                0.5.1   \n",
              "transformers       4.28.1     4.29.2  4.30.2  4.31.0    4.32.1     4.33.3   \n",
              "torch                          2.0.1                                        \n",
              "numpy              1.24.3  1.25.0rc1  1.25.0  1.25.2  1.26.0b1  1.26.0rc1   \n",
              "deepspeed           0.9.1      0.9.2   0.9.5  0.10.0    0.10.2     0.10.3   \n",
              "trl                                    0.4.6   0.4.7     0.7.1              \n",
              "peft                           0.3.0           0.4.0     0.5.0              \n",
              "wandb              0.15.0     0.15.3  0.15.4  0.15.7    0.15.9   0.16.0b1   \n",
              "bitsandbytes       0.38.1     0.39.0  0.39.1  0.41.0    0.41.1              \n",
              "accelerate                    0.19.0  0.20.3  0.21.0    0.22.0     0.23.0   \n",
              "tqdm                                                    4.66.1              \n",
              "neural_compressor              2.1.1     2.2   2.2.1                2.3.1   \n",
              "onnx                          1.14.0                    1.14.1              \n",
              "pandas              2.0.1      2.0.2   2.0.3          2.1.0rc0      2.1.1   \n",
              "scipy                      1.11.0rc1  1.11.1            1.11.2     1.11.3   \n",
              "\n",
              "                    2023-10       2023-11       2023-12    2024-01 2024-02  \\\n",
              "deeplake              3.8.3         3.8.9        3.8.13     3.8.17  3.8.22   \n",
              "openai             1.0.0rc1         1.3.6         1.6.1      1.9.0  1.13.3   \n",
              "tiktoken                                          0.5.2              0.6.0   \n",
              "transformers         4.34.1        4.35.2        4.36.2     4.37.2  4.38.1   \n",
              "torch                 2.1.0         2.1.1         2.1.2      2.2.0   2.2.1   \n",
              "numpy                1.26.1        1.26.2                   1.26.3  1.26.4   \n",
              "deepspeed            0.11.1        0.12.3        0.12.6     0.13.1  0.13.4   \n",
              "trl                   0.7.2         0.7.4         0.7.7      0.7.9  0.7.11   \n",
              "peft                                0.6.2         0.7.1      0.8.1   0.9.0   \n",
              "wandb               0.15.12        0.16.0        0.16.1     0.16.2  0.16.3   \n",
              "bitsandbytes                 0.41.2.post2  0.41.3.post2     0.42.0           \n",
              "accelerate           0.24.1                      0.25.0     0.26.1  0.27.2   \n",
              "tqdm                                                                4.66.2   \n",
              "neural_compressor                   2.3.2         2.4.1                      \n",
              "onnx                 1.15.0                                                  \n",
              "pandas                2.1.2         2.1.3      2.2.0rc0      2.2.0   2.2.1   \n",
              "scipy                              1.11.4     1.12.0rc1  1.12.0rc2           \n",
              "\n",
              "                     2024-03 2024-04  \n",
              "deeplake              3.8.27   3.9.0  \n",
              "openai                1.14.3  1.16.2  \n",
              "tiktoken                              \n",
              "transformers          4.39.2  4.39.3  \n",
              "torch                  2.2.2          \n",
              "numpy               2.0.0rc1          \n",
              "deepspeed             0.14.0          \n",
              "trl                    0.8.1          \n",
              "peft                  0.10.0          \n",
              "wandb                 0.16.5  0.16.6  \n",
              "bitsandbytes          0.43.0          \n",
              "accelerate            0.28.0  0.29.1  \n",
              "tqdm                                  \n",
              "neural_compressor        2.5   2.5.1  \n",
              "onnx                  1.16.0          \n",
              "pandas                                \n",
              "scipy              1.13.0rc1  1.13.0  "
            ],
            "text/html": [
              "\n",
              "  <div id=\"df-80baff99-02dc-4826-86fa-2be20b9a73a9\" class=\"colab-df-container\">\n",
              "    <div>\n",
              "<style scoped>\n",
              "    .dataframe tbody tr th:only-of-type {\n",
              "        vertical-align: middle;\n",
              "    }\n",
              "\n",
              "    .dataframe tbody tr th {\n",
              "        vertical-align: top;\n",
              "    }\n",
              "\n",
              "    .dataframe thead th {\n",
              "        text-align: right;\n",
              "    }\n",
              "</style>\n",
              "<table border=\"1\" class=\"dataframe\">\n",
              "  <thead>\n",
              "    <tr style=\"text-align: right;\">\n",
              "      <th></th>\n",
              "      <th>2023-04</th>\n",
              "      <th>2023-05</th>\n",
              "      <th>2023-06</th>\n",
              "      <th>2023-07</th>\n",
              "      <th>2023-08</th>\n",
              "      <th>2023-09</th>\n",
              "      <th>2023-10</th>\n",
              "      <th>2023-11</th>\n",
              "      <th>2023-12</th>\n",
              "      <th>2024-01</th>\n",
              "      <th>2024-02</th>\n",
              "      <th>2024-03</th>\n",
              "      <th>2024-04</th>\n",
              "    </tr>\n",
              "  </thead>\n",
              "  <tbody>\n",
              "    <tr>\n",
              "      <th>deeplake</th>\n",
              "      <td>3.3.2</td>\n",
              "      <td>3.5.3</td>\n",
              "      <td>3.6.7</td>\n",
              "      <td>3.6.9</td>\n",
              "      <td>3.6.22</td>\n",
              "      <td>3.7.2</td>\n",
              "      <td>3.8.3</td>\n",
              "      <td>3.8.9</td>\n",
              "      <td>3.8.13</td>\n",
              "      <td>3.8.17</td>\n",
              "      <td>3.8.22</td>\n",
              "      <td>3.8.27</td>\n",
              "      <td>3.9.0</td>\n",
              "    </tr>\n",
              "    <tr>\n",
              "      <th>openai</th>\n",
              "      <td>0.27.5</td>\n",
              "      <td>0.27.7</td>\n",
              "      <td>0.27.8</td>\n",
              "      <td></td>\n",
              "      <td>0.28.0</td>\n",
              "      <td>1.0.0b1</td>\n",
              "      <td>1.0.0rc1</td>\n",
              "      <td>1.3.6</td>\n",
              "      <td>1.6.1</td>\n",
              "      <td>1.9.0</td>\n",
              "      <td>1.13.3</td>\n",
              "      <td>1.14.3</td>\n",
              "      <td>1.16.2</td>\n",
              "    </tr>\n",
              "    <tr>\n",
              "      <th>tiktoken</th>\n",
              "      <td></td>\n",
              "      <td>0.4.0</td>\n",
              "      <td></td>\n",
              "      <td></td>\n",
              "      <td></td>\n",
              "      <td>0.5.1</td>\n",
              "      <td></td>\n",
              "      <td></td>\n",
              "      <td>0.5.2</td>\n",
              "      <td></td>\n",
              "      <td>0.6.0</td>\n",
              "      <td></td>\n",
              "      <td></td>\n",
              "    </tr>\n",
              "    <tr>\n",
              "      <th>transformers</th>\n",
              "      <td>4.28.1</td>\n",
              "      <td>4.29.2</td>\n",
              "      <td>4.30.2</td>\n",
              "      <td>4.31.0</td>\n",
              "      <td>4.32.1</td>\n",
              "      <td>4.33.3</td>\n",
              "      <td>4.34.1</td>\n",
              "      <td>4.35.2</td>\n",
              "      <td>4.36.2</td>\n",
              "      <td>4.37.2</td>\n",
              "      <td>4.38.1</td>\n",
              "      <td>4.39.2</td>\n",
              "      <td>4.39.3</td>\n",
              "    </tr>\n",
              "    <tr>\n",
              "      <th>torch</th>\n",
              "      <td></td>\n",
              "      <td>2.0.1</td>\n",
              "      <td></td>\n",
              "      <td></td>\n",
              "      <td></td>\n",
              "      <td></td>\n",
              "      <td>2.1.0</td>\n",
              "      <td>2.1.1</td>\n",
              "      <td>2.1.2</td>\n",
              "      <td>2.2.0</td>\n",
              "      <td>2.2.1</td>\n",
              "      <td>2.2.2</td>\n",
              "      <td></td>\n",
              "    </tr>\n",
              "    <tr>\n",
              "      <th>numpy</th>\n",
              "      <td>1.24.3</td>\n",
              "      <td>1.25.0rc1</td>\n",
              "      <td>1.25.0</td>\n",
              "      <td>1.25.2</td>\n",
              "      <td>1.26.0b1</td>\n",
              "      <td>1.26.0rc1</td>\n",
              "      <td>1.26.1</td>\n",
              "      <td>1.26.2</td>\n",
              "      <td></td>\n",
              "      <td>1.26.3</td>\n",
              "      <td>1.26.4</td>\n",
              "      <td>2.0.0rc1</td>\n",
              "      <td></td>\n",
              "    </tr>\n",
              "    <tr>\n",
              "      <th>deepspeed</th>\n",
              "      <td>0.9.1</td>\n",
              "      <td>0.9.2</td>\n",
              "      <td>0.9.5</td>\n",
              "      <td>0.10.0</td>\n",
              "      <td>0.10.2</td>\n",
              "      <td>0.10.3</td>\n",
              "      <td>0.11.1</td>\n",
              "      <td>0.12.3</td>\n",
              "      <td>0.12.6</td>\n",
              "      <td>0.13.1</td>\n",
              "      <td>0.13.4</td>\n",
              "      <td>0.14.0</td>\n",
              "      <td></td>\n",
              "    </tr>\n",
              "    <tr>\n",
              "      <th>trl</th>\n",
              "      <td></td>\n",
              "      <td></td>\n",
              "      <td>0.4.6</td>\n",
              "      <td>0.4.7</td>\n",
              "      <td>0.7.1</td>\n",
              "      <td></td>\n",
              "      <td>0.7.2</td>\n",
              "      <td>0.7.4</td>\n",
              "      <td>0.7.7</td>\n",
              "      <td>0.7.9</td>\n",
              "      <td>0.7.11</td>\n",
              "      <td>0.8.1</td>\n",
              "      <td></td>\n",
              "    </tr>\n",
              "    <tr>\n",
              "      <th>peft</th>\n",
              "      <td></td>\n",
              "      <td>0.3.0</td>\n",
              "      <td></td>\n",
              "      <td>0.4.0</td>\n",
              "      <td>0.5.0</td>\n",
              "      <td></td>\n",
              "      <td></td>\n",
              "      <td>0.6.2</td>\n",
              "      <td>0.7.1</td>\n",
              "      <td>0.8.1</td>\n",
              "      <td>0.9.0</td>\n",
              "      <td>0.10.0</td>\n",
              "      <td></td>\n",
              "    </tr>\n",
              "    <tr>\n",
              "      <th>wandb</th>\n",
              "      <td>0.15.0</td>\n",
              "      <td>0.15.3</td>\n",
              "      <td>0.15.4</td>\n",
              "      <td>0.15.7</td>\n",
              "      <td>0.15.9</td>\n",
              "      <td>0.16.0b1</td>\n",
              "      <td>0.15.12</td>\n",
              "      <td>0.16.0</td>\n",
              "      <td>0.16.1</td>\n",
              "      <td>0.16.2</td>\n",
              "      <td>0.16.3</td>\n",
              "      <td>0.16.5</td>\n",
              "      <td>0.16.6</td>\n",
              "    </tr>\n",
              "    <tr>\n",
              "      <th>bitsandbytes</th>\n",
              "      <td>0.38.1</td>\n",
              "      <td>0.39.0</td>\n",
              "      <td>0.39.1</td>\n",
              "      <td>0.41.0</td>\n",
              "      <td>0.41.1</td>\n",
              "      <td></td>\n",
              "      <td></td>\n",
              "      <td>0.41.2.post2</td>\n",
              "      <td>0.41.3.post2</td>\n",
              "      <td>0.42.0</td>\n",
              "      <td></td>\n",
              "      <td>0.43.0</td>\n",
              "      <td></td>\n",
              "    </tr>\n",
              "    <tr>\n",
              "      <th>accelerate</th>\n",
              "      <td></td>\n",
              "      <td>0.19.0</td>\n",
              "      <td>0.20.3</td>\n",
              "      <td>0.21.0</td>\n",
              "      <td>0.22.0</td>\n",
              "      <td>0.23.0</td>\n",
              "      <td>0.24.1</td>\n",
              "      <td></td>\n",
              "      <td>0.25.0</td>\n",
              "      <td>0.26.1</td>\n",
              "      <td>0.27.2</td>\n",
              "      <td>0.28.0</td>\n",
              "      <td>0.29.1</td>\n",
              "    </tr>\n",
              "    <tr>\n",
              "      <th>tqdm</th>\n",
              "      <td></td>\n",
              "      <td></td>\n",
              "      <td></td>\n",
              "      <td></td>\n",
              "      <td>4.66.1</td>\n",
              "      <td></td>\n",
              "      <td></td>\n",
              "      <td></td>\n",
              "      <td></td>\n",
              "      <td></td>\n",
              "      <td>4.66.2</td>\n",
              "      <td></td>\n",
              "      <td></td>\n",
              "    </tr>\n",
              "    <tr>\n",
              "      <th>neural_compressor</th>\n",
              "      <td></td>\n",
              "      <td>2.1.1</td>\n",
              "      <td>2.2</td>\n",
              "      <td>2.2.1</td>\n",
              "      <td></td>\n",
              "      <td>2.3.1</td>\n",
              "      <td></td>\n",
              "      <td>2.3.2</td>\n",
              "      <td>2.4.1</td>\n",
              "      <td></td>\n",
              "      <td></td>\n",
              "      <td>2.5</td>\n",
              "      <td>2.5.1</td>\n",
              "    </tr>\n",
              "    <tr>\n",
              "      <th>onnx</th>\n",
              "      <td></td>\n",
              "      <td>1.14.0</td>\n",
              "      <td></td>\n",
              "      <td></td>\n",
              "      <td>1.14.1</td>\n",
              "      <td></td>\n",
              "      <td>1.15.0</td>\n",
              "      <td></td>\n",
              "      <td></td>\n",
              "      <td></td>\n",
              "      <td></td>\n",
              "      <td>1.16.0</td>\n",
              "      <td></td>\n",
              "    </tr>\n",
              "    <tr>\n",
              "      <th>pandas</th>\n",
              "      <td>2.0.1</td>\n",
              "      <td>2.0.2</td>\n",
              "      <td>2.0.3</td>\n",
              "      <td></td>\n",
              "      <td>2.1.0rc0</td>\n",
              "      <td>2.1.1</td>\n",
              "      <td>2.1.2</td>\n",
              "      <td>2.1.3</td>\n",
              "      <td>2.2.0rc0</td>\n",
              "      <td>2.2.0</td>\n",
              "      <td>2.2.1</td>\n",
              "      <td></td>\n",
              "      <td></td>\n",
              "    </tr>\n",
              "    <tr>\n",
              "      <th>scipy</th>\n",
              "      <td></td>\n",
              "      <td>1.11.0rc1</td>\n",
              "      <td>1.11.1</td>\n",
              "      <td></td>\n",
              "      <td>1.11.2</td>\n",
              "      <td>1.11.3</td>\n",
              "      <td></td>\n",
              "      <td>1.11.4</td>\n",
              "      <td>1.12.0rc1</td>\n",
              "      <td>1.12.0rc2</td>\n",
              "      <td></td>\n",
              "      <td>1.13.0rc1</td>\n",
              "      <td>1.13.0</td>\n",
              "    </tr>\n",
              "  </tbody>\n",
              "</table>\n",
              "</div>\n",
              "    <div class=\"colab-df-buttons\">\n",
              "\n",
              "  <div class=\"colab-df-container\">\n",
              "    <button class=\"colab-df-convert\" onclick=\"convertToInteractive('df-80baff99-02dc-4826-86fa-2be20b9a73a9')\"\n",
              "            title=\"Convert this dataframe to an interactive table.\"\n",
              "            style=\"display:none;\">\n",
              "\n",
              "  <svg xmlns=\"http://www.w3.org/2000/svg\" height=\"24px\" viewBox=\"0 -960 960 960\">\n",
              "    <path d=\"M120-120v-720h720v720H120Zm60-500h600v-160H180v160Zm220 220h160v-160H400v160Zm0 220h160v-160H400v160ZM180-400h160v-160H180v160Zm440 0h160v-160H620v160ZM180-180h160v-160H180v160Zm440 0h160v-160H620v160Z\"/>\n",
              "  </svg>\n",
              "    </button>\n",
              "\n",
              "  <style>\n",
              "    .colab-df-container {\n",
              "      display:flex;\n",
              "      gap: 12px;\n",
              "    }\n",
              "\n",
              "    .colab-df-convert {\n",
              "      background-color: #E8F0FE;\n",
              "      border: none;\n",
              "      border-radius: 50%;\n",
              "      cursor: pointer;\n",
              "      display: none;\n",
              "      fill: #1967D2;\n",
              "      height: 32px;\n",
              "      padding: 0 0 0 0;\n",
              "      width: 32px;\n",
              "    }\n",
              "\n",
              "    .colab-df-convert:hover {\n",
              "      background-color: #E2EBFA;\n",
              "      box-shadow: 0px 1px 2px rgba(60, 64, 67, 0.3), 0px 1px 3px 1px rgba(60, 64, 67, 0.15);\n",
              "      fill: #174EA6;\n",
              "    }\n",
              "\n",
              "    .colab-df-buttons div {\n",
              "      margin-bottom: 4px;\n",
              "    }\n",
              "\n",
              "    [theme=dark] .colab-df-convert {\n",
              "      background-color: #3B4455;\n",
              "      fill: #D2E3FC;\n",
              "    }\n",
              "\n",
              "    [theme=dark] .colab-df-convert:hover {\n",
              "      background-color: #434B5C;\n",
              "      box-shadow: 0px 1px 3px 1px rgba(0, 0, 0, 0.15);\n",
              "      filter: drop-shadow(0px 1px 2px rgba(0, 0, 0, 0.3));\n",
              "      fill: #FFFFFF;\n",
              "    }\n",
              "  </style>\n",
              "\n",
              "    <script>\n",
              "      const buttonEl =\n",
              "        document.querySelector('#df-80baff99-02dc-4826-86fa-2be20b9a73a9 button.colab-df-convert');\n",
              "      buttonEl.style.display =\n",
              "        google.colab.kernel.accessAllowed ? 'block' : 'none';\n",
              "\n",
              "      async function convertToInteractive(key) {\n",
              "        const element = document.querySelector('#df-80baff99-02dc-4826-86fa-2be20b9a73a9');\n",
              "        const dataTable =\n",
              "          await google.colab.kernel.invokeFunction('convertToInteractive',\n",
              "                                                    [key], {});\n",
              "        if (!dataTable) return;\n",
              "\n",
              "        const docLinkHtml = 'Like what you see? Visit the ' +\n",
              "          '<a target=\"_blank\" href=https://colab.research.google.com/notebooks/data_table.ipynb>data table notebook</a>'\n",
              "          + ' to learn more about interactive tables.';\n",
              "        element.innerHTML = '';\n",
              "        dataTable['output_type'] = 'display_data';\n",
              "        await google.colab.output.renderOutput(dataTable, element);\n",
              "        const docLink = document.createElement('div');\n",
              "        docLink.innerHTML = docLinkHtml;\n",
              "        element.appendChild(docLink);\n",
              "      }\n",
              "    </script>\n",
              "  </div>\n",
              "\n",
              "\n",
              "<div id=\"df-b40b1cab-8f4e-4eb9-a420-10eea8bffb50\">\n",
              "  <button class=\"colab-df-quickchart\" onclick=\"quickchart('df-b40b1cab-8f4e-4eb9-a420-10eea8bffb50')\"\n",
              "            title=\"Suggest charts\"\n",
              "            style=\"display:none;\">\n",
              "\n",
              "<svg xmlns=\"http://www.w3.org/2000/svg\" height=\"24px\"viewBox=\"0 0 24 24\"\n",
              "     width=\"24px\">\n",
              "    <g>\n",
              "        <path d=\"M19 3H5c-1.1 0-2 .9-2 2v14c0 1.1.9 2 2 2h14c1.1 0 2-.9 2-2V5c0-1.1-.9-2-2-2zM9 17H7v-7h2v7zm4 0h-2V7h2v10zm4 0h-2v-4h2v4z\"/>\n",
              "    </g>\n",
              "</svg>\n",
              "  </button>\n",
              "\n",
              "<style>\n",
              "  .colab-df-quickchart {\n",
              "      --bg-color: #E8F0FE;\n",
              "      --fill-color: #1967D2;\n",
              "      --hover-bg-color: #E2EBFA;\n",
              "      --hover-fill-color: #174EA6;\n",
              "      --disabled-fill-color: #AAA;\n",
              "      --disabled-bg-color: #DDD;\n",
              "  }\n",
              "\n",
              "  [theme=dark] .colab-df-quickchart {\n",
              "      --bg-color: #3B4455;\n",
              "      --fill-color: #D2E3FC;\n",
              "      --hover-bg-color: #434B5C;\n",
              "      --hover-fill-color: #FFFFFF;\n",
              "      --disabled-bg-color: #3B4455;\n",
              "      --disabled-fill-color: #666;\n",
              "  }\n",
              "\n",
              "  .colab-df-quickchart {\n",
              "    background-color: var(--bg-color);\n",
              "    border: none;\n",
              "    border-radius: 50%;\n",
              "    cursor: pointer;\n",
              "    display: none;\n",
              "    fill: var(--fill-color);\n",
              "    height: 32px;\n",
              "    padding: 0;\n",
              "    width: 32px;\n",
              "  }\n",
              "\n",
              "  .colab-df-quickchart:hover {\n",
              "    background-color: var(--hover-bg-color);\n",
              "    box-shadow: 0 1px 2px rgba(60, 64, 67, 0.3), 0 1px 3px 1px rgba(60, 64, 67, 0.15);\n",
              "    fill: var(--button-hover-fill-color);\n",
              "  }\n",
              "\n",
              "  .colab-df-quickchart-complete:disabled,\n",
              "  .colab-df-quickchart-complete:disabled:hover {\n",
              "    background-color: var(--disabled-bg-color);\n",
              "    fill: var(--disabled-fill-color);\n",
              "    box-shadow: none;\n",
              "  }\n",
              "\n",
              "  .colab-df-spinner {\n",
              "    border: 2px solid var(--fill-color);\n",
              "    border-color: transparent;\n",
              "    border-bottom-color: var(--fill-color);\n",
              "    animation:\n",
              "      spin 1s steps(1) infinite;\n",
              "  }\n",
              "\n",
              "  @keyframes spin {\n",
              "    0% {\n",
              "      border-color: transparent;\n",
              "      border-bottom-color: var(--fill-color);\n",
              "      border-left-color: var(--fill-color);\n",
              "    }\n",
              "    20% {\n",
              "      border-color: transparent;\n",
              "      border-left-color: var(--fill-color);\n",
              "      border-top-color: var(--fill-color);\n",
              "    }\n",
              "    30% {\n",
              "      border-color: transparent;\n",
              "      border-left-color: var(--fill-color);\n",
              "      border-top-color: var(--fill-color);\n",
              "      border-right-color: var(--fill-color);\n",
              "    }\n",
              "    40% {\n",
              "      border-color: transparent;\n",
              "      border-right-color: var(--fill-color);\n",
              "      border-top-color: var(--fill-color);\n",
              "    }\n",
              "    60% {\n",
              "      border-color: transparent;\n",
              "      border-right-color: var(--fill-color);\n",
              "    }\n",
              "    80% {\n",
              "      border-color: transparent;\n",
              "      border-right-color: var(--fill-color);\n",
              "      border-bottom-color: var(--fill-color);\n",
              "    }\n",
              "    90% {\n",
              "      border-color: transparent;\n",
              "      border-bottom-color: var(--fill-color);\n",
              "    }\n",
              "  }\n",
              "</style>\n",
              "\n",
              "  <script>\n",
              "    async function quickchart(key) {\n",
              "      const quickchartButtonEl =\n",
              "        document.querySelector('#' + key + ' button');\n",
              "      quickchartButtonEl.disabled = true;  // To prevent multiple clicks.\n",
              "      quickchartButtonEl.classList.add('colab-df-spinner');\n",
              "      try {\n",
              "        const charts = await google.colab.kernel.invokeFunction(\n",
              "            'suggestCharts', [key], {});\n",
              "      } catch (error) {\n",
              "        console.error('Error during call to suggestCharts:', error);\n",
              "      }\n",
              "      quickchartButtonEl.classList.remove('colab-df-spinner');\n",
              "      quickchartButtonEl.classList.add('colab-df-quickchart-complete');\n",
              "    }\n",
              "    (() => {\n",
              "      let quickchartButtonEl =\n",
              "        document.querySelector('#df-b40b1cab-8f4e-4eb9-a420-10eea8bffb50 button');\n",
              "      quickchartButtonEl.style.display =\n",
              "        google.colab.kernel.accessAllowed ? 'block' : 'none';\n",
              "    })();\n",
              "  </script>\n",
              "</div>\n",
              "    </div>\n",
              "  </div>\n"
            ],
            "application/vnd.google.colaboratory.intrinsic+json": {
              "type": "dataframe",
              "variable_name": "df",
              "summary": "{\n  \"name\": \"df\",\n  \"rows\": 17,\n  \"fields\": [\n    {\n      \"column\": \"2023-04\",\n      \"properties\": {\n        \"dtype\": \"string\",\n        \"num_unique_values\": 9,\n        \"samples\": [\n          \"0.38.1\",\n          \"0.27.5\",\n          \"0.9.1\"\n        ],\n        \"semantic_type\": \"\",\n        \"description\": \"\"\n      }\n    },\n    {\n      \"column\": \"2023-05\",\n      \"properties\": {\n        \"dtype\": \"string\",\n        \"num_unique_values\": 16,\n        \"samples\": [\n          \"3.5.3\",\n          \"0.27.7\",\n          \"1.25.0rc1\"\n        ],\n        \"semantic_type\": \"\",\n        \"description\": \"\"\n      }\n    },\n    {\n      \"column\": \"2023-06\",\n      \"properties\": {\n        \"dtype\": \"string\",\n        \"num_unique_values\": 13,\n        \"samples\": [\n          \"2.0.3\",\n          \"0.20.3\",\n          \"3.6.7\"\n        ],\n        \"semantic_type\": \"\",\n        \"description\": \"\"\n      }\n    },\n    {\n      \"column\": \"2023-07\",\n      \"properties\": {\n        \"dtype\": \"string\",\n        \"num_unique_values\": 11,\n        \"samples\": [\n          \"0.4.7\",\n          \"3.6.9\",\n          \"0.21.0\"\n        ],\n        \"semantic_type\": \"\",\n        \"description\": \"\"\n      }\n    },\n    {\n      \"column\": \"2023-08\",\n      \"properties\": {\n        \"dtype\": \"string\",\n        \"num_unique_values\": 15,\n        \"samples\": [\n          \"0.41.1\",\n          \"4.66.1\",\n          \"3.6.22\"\n        ],\n        \"semantic_type\": \"\",\n        \"description\": \"\"\n      }\n    },\n    {\n      \"column\": \"2023-09\",\n      \"properties\": {\n        \"dtype\": \"string\",\n        \"num_unique_values\": 12,\n        \"samples\": [\n          \"2.1.1\",\n          \"2.3.1\",\n          \"3.7.2\"\n        ],\n        \"semantic_type\": \"\",\n        \"description\": \"\"\n      }\n    },\n    {\n      \"column\": \"2023-10\",\n      \"properties\": {\n        \"dtype\": \"string\",\n        \"num_unique_values\": 12,\n        \"samples\": [\n          \"1.15.0\",\n          \"0.24.1\",\n          \"3.8.3\"\n        ],\n        \"semantic_type\": \"\",\n        \"description\": \"\"\n      }\n    },\n    {\n      \"column\": \"2023-11\",\n      \"properties\": {\n        \"dtype\": \"string\",\n        \"num_unique_values\": 14,\n        \"samples\": [\n          \"0.16.0\",\n          \"2.3.2\",\n          \"3.8.9\"\n        ],\n        \"semantic_type\": \"\",\n        \"description\": \"\"\n      }\n    },\n    {\n      \"column\": \"2023-12\",\n      \"properties\": {\n        \"dtype\": \"string\",\n        \"num_unique_values\": 15,\n        \"samples\": [\n          \"0.16.1\",\n          \"0.25.0\",\n          \"3.8.13\"\n        ],\n        \"semantic_type\": \"\",\n        \"description\": \"\"\n      }\n    },\n    {\n      \"column\": \"2024-01\",\n      \"properties\": {\n        \"dtype\": \"string\",\n        \"num_unique_values\": 13,\n        \"samples\": [\n          \"0.26.1\",\n          \"0.16.2\",\n          \"3.8.17\"\n        ],\n        \"semantic_type\": \"\",\n        \"description\": \"\"\n      }\n    },\n    {\n      \"column\": \"2024-02\",\n      \"properties\": {\n        \"dtype\": \"string\",\n        \"num_unique_values\": 13,\n        \"samples\": [\n          \"0.27.2\",\n          \"0.16.3\",\n          \"3.8.22\"\n        ],\n        \"semantic_type\": \"\",\n        \"description\": \"\"\n      }\n    },\n    {\n      \"column\": \"2024-03\",\n      \"properties\": {\n        \"dtype\": \"string\",\n        \"num_unique_values\": 15,\n        \"samples\": [\n          \"0.16.5\",\n          \"0.28.0\",\n          \"3.8.27\"\n        ],\n        \"semantic_type\": \"\",\n        \"description\": \"\"\n      }\n    },\n    {\n      \"column\": \"2024-04\",\n      \"properties\": {\n        \"dtype\": \"category\",\n        \"num_unique_values\": 8,\n        \"samples\": [\n          \"1.16.2\",\n          \"0.29.1\",\n          \"3.9.0\"\n        ],\n        \"semantic_type\": \"\",\n        \"description\": \"\"\n      }\n    }\n  ]\n}"
            }
          },
          "metadata": {},
          "execution_count": 3
        }
      ]
    },
    {
      "cell_type": "markdown",
      "source": [
        "## Vector representation\n",
        "\n",
        "1.Collect all versions and their release dates for each package.\n",
        "\n",
        "2.Convert dates to a numerical scale (e.g., days since the first release in the dataset).\n",
        "\n",
        "3.Plot each package's version timeline to observe convergence or divergence."
      ],
      "metadata": {
        "id": "gt-N02Gpwp7h"
      }
    },
    {
      "cell_type": "code",
      "source": [
        "import requests\n",
        "import matplotlib.pyplot as plt\n",
        "from datetime import datetime\n",
        "from packaging import version\n",
        "\n",
        "# Define the date range\n",
        "begin_date = datetime.strptime(\"2023-04-10\", \"%Y-%m-%d\").date()\n",
        "end_date = datetime.strptime(\"2024-04-10\", \"%Y-%m-%d\").date()\n",
        "\n",
        "# Sample dictionary for demonstration\n",
        "packages = {\n",
        "    \"numpy\": \"Scientific computing library.\",\n",
        "    \"pandas\": \"Data manipulation library.\"\n",
        "    # Add other packages as necessary\n",
        "}\n",
        "\n",
        "# Initialize a dictionary to hold release date and version info\n",
        "package_data = {pkg: [] for pkg in packages}\n",
        "\n",
        "# Collect version and date data\n",
        "for package in packages:\n",
        "    response = requests.get(f'https://pypi.org/pypi/{package}/json')\n",
        "    if response.status_code == 200:\n",
        "        data = response.json()\n",
        "        releases = data.get('releases', {})\n",
        "        for release, release_data in releases.items():\n",
        "            if release_data:\n",
        "                date_str = release_data[-1]['upload_time_iso_8601']\n",
        "                release_date = datetime.fromisoformat(date_str[:-1]).date()  # Remove timezone info\n",
        "                if begin_date <= release_date <= end_date:\n",
        "                    package_data[package].append((version.parse(release), release_date))\n",
        "\n",
        "# Normalize dates to a numerical scale (days since begin_date)\n",
        "for pkg in package_data:\n",
        "    package_data[pkg] = sorted([(ver, (date - begin_date).days) for ver, date in package_data[pkg]], key=lambda x: x[1])\n",
        "\n",
        "# Now package_data holds the version and normalized date info for each package within the specified date range"
      ],
      "metadata": {
        "id": "-MKZioK_wkPz"
      },
      "execution_count": 4,
      "outputs": []
    },
    {
      "cell_type": "markdown",
      "source": [
        "Plotting the package release dates"
      ],
      "metadata": {
        "id": "qxg8Kf6PyhlW"
      }
    },
    {
      "cell_type": "code",
      "source": [
        "for package, data in package_data.items():\n",
        "    plt.plot([date for _, date in data], [str(ver) for ver, _ in data], label=package)\n",
        "\n",
        "plt.xlabel(f'Days since {begin_date}')\n",
        "plt.ylabel('Version')\n",
        "plt.title('Package Version Evolution')\n",
        "plt.legend()\n",
        "plt.show()"
      ],
      "metadata": {
        "colab": {
          "base_uri": "https://localhost:8080/",
          "height": 472
        },
        "id": "y16vJi3fxCQ5",
        "outputId": "8ea0b3b7-b200-4717-f8ca-2fd3cf2a461d"
      },
      "execution_count": 5,
      "outputs": [
        {
          "output_type": "display_data",
          "data": {
            "text/plain": [
              "<Figure size 640x480 with 1 Axes>"
            ],
            "image/png": "[encoded data removed]"
          },
          "metadata": {}
        }
      ]
    },
    {
      "cell_type": "markdown",
      "source": [
        "deeplake and openai"
      ],
      "metadata": {
        "id": "hwoHpAEvycR6"
      }
    },
    {
      "cell_type": "code",
      "source": [
        "import requests\n",
        "import matplotlib.pyplot as plt\n",
        "from datetime import datetime\n",
        "from packaging import version\n",
        "\n",
        "# Define the date range\n",
        "begin_date = datetime.strptime(\"2022-04-10\", \"%Y-%m-%d\").date()\n",
        "end_date = datetime.strptime(\"2024-04-10\", \"%Y-%m-%d\").date()\n",
        "\n",
        "# Sample dictionary for demonstration\n",
        "packages = {\n",
        "    \"deeplake\": \"Data lake management and operations.\",\n",
        "    \"openai\": \"OpenAI's API client library.\"\n",
        "    # Add other packages as necessary\n",
        "}\n",
        "\n",
        "# Initialize a dictionary to hold release date and version info\n",
        "package_data = {pkg: [] for pkg in packages}\n",
        "\n",
        "# Collect version and date data\n",
        "for package in packages:\n",
        "    response = requests.get(f'https://pypi.org/pypi/{package}/json')\n",
        "    if response.status_code == 200:\n",
        "        data = response.json()\n",
        "        releases = data.get('releases', {})\n",
        "        for release, release_data in releases.items():\n",
        "            if release_data:\n",
        "                date_str = release_data[-1]['upload_time_iso_8601']\n",
        "                release_date = datetime.fromisoformat(date_str[:-1]).date()  # Remove timezone info\n",
        "                if begin_date <= release_date <= end_date:\n",
        "                    package_data[package].append((version.parse(release), release_date))\n",
        "\n",
        "# Normalize dates to a numerical scale (days since begin_date)\n",
        "for pkg in package_data:\n",
        "    package_data[pkg] = sorted([(ver, (date - begin_date).days) for ver, date in package_data[pkg]], key=lambda x: x[1])\n",
        "\n",
        "# Now package_data holds the version and normalized date info for each package within the specified date range"
      ],
      "metadata": {
        "id": "8jO1mDWg2OsU"
      },
      "execution_count": 6,
      "outputs": []
    },
    {
      "cell_type": "code",
      "source": [
        "import matplotlib.pyplot as plt\n",
        "\n",
        "# For each package, plot the version index over time\n",
        "for package, data in package_data.items():\n",
        "    # Use an increasing integer for each version instead of the version string\n",
        "    plt.plot([date for _, date in data], range(len(data)), label=package)\n",
        "\n",
        "plt.xlabel(f'Days since {begin_date}') #days elapsed since a start date.\n",
        "plt.ylabel('Version Index')  # Use 'Version Index' to indicate these are not the actual version numbers\n",
        "plt.title('Package Version Evolution')\n",
        "plt.legend()\n",
        "plt.show()\n"
      ],
      "metadata": {
        "colab": {
          "base_uri": "https://localhost:8080/",
          "height": 472
        },
        "id": "A4Vefv-W3AcC",
        "outputId": "49bdcd9a-4426-4198-b9db-f3d5f93aba76"
      },
      "execution_count": 7,
      "outputs": [
        {
          "output_type": "display_data",
          "data": {
            "text/plain": [
              "<Figure size 640x480 with 1 Axes>"
            ],
            "image/png": "[encoded data removed]"
          },
          "metadata": {}
        }
      ]
    },
    {
      "cell_type": "markdown",
      "source": [
        "# Session 2B Finding versions that fit the LLM model ecosystem and are not conflicting : platform constraints\n",
        "\n",
        "Challenge: Cloud platforms evolve rapidly with their own constraints."
      ],
      "metadata": {
        "id": "sMH0Es0JZDpW"
      }
    },
    {
      "cell_type": "markdown",
      "source": [
        "Example: Google Colab Release notes (excerpt)\n",
        "\n",
        "The constraints Apply to all platforms"
      ],
      "metadata": {
        "id": "MkkHPL_fZLRg"
      }
    },
    {
      "cell_type": "markdown",
      "source": [
        "**2024-02-21**\n",
        "\n",
        "Python package upgrades\n",
        "\n",
        "bigframes 0.19.2 -> 0.21.0  \n",
        "regex 2023.6.3 -> 2023.12.25  \n",
        "spacy 3.6.1 -> 3.7.4  \n",
        "beautifulsoup4 4.11.2 -> 4.12.3  \n",
        "tensorflow-probability 0.22.0 -> 0.23.0  \n",
        "google-cloud-language 2.9.1 -> 2.13.1  \n",
        "google-cloud-aiplatform 1.39.0 -> 1.42.1  \n",
        "transformers 4.35.2 -> 4..37.2  \n",
        "pyarrow 10.0.1 -> 14.0.2  \n"
      ],
      "metadata": {
        "id": "S17sbcbdZpdL"
      }
    },
    {
      "cell_type": "markdown",
      "source": [
        "# Session 3 Installing with frozen versions\n",
        "\n",
        "**Installing with frozen versions means you might not get the latest versions or functionalities, and some API calls may no longer work.**\n",
        "\n",
        "Challenge:\n",
        "\n",
        "-Not having the latest innovations   \n",
        "-API calls may become deprecated (new model calls or model replaced)"
      ],
      "metadata": {
        "id": "De9LlDVoK_LL"
      }
    },
    {
      "cell_type": "markdown",
      "source": [
        "## An application with the release dates of the packages"
      ],
      "metadata": {
        "id": "kjnT6wRR5Rbp"
      }
    },
    {
      "cell_type": "markdown",
      "source": [
        "deeplake==3.6.19  \n",
        "openai==0.27.8  \n",
        "tiktoken==0.4.0  \n",
        "transformers==4.32.0  \n",
        "torch==2.2.1  # Upgraded to match dependencies  \n",
        "numpy>=1.24.1  # Upgraded to satisfy chex  \n",
        "deepspeed==0.10.1  \n",
        "trl==0.7.1  \n",
        "peft==0.5.0  \n",
        "wandb==0.15.8  \n",
        "bitsandbytes==0.41.1  \n",
        "accelerate==0.22.0     \n",
        "tqdm==4.66.1  \n",
        "neural_compressor==2.2.1  \n",
        "onnx==1.14.1  \n",
        "pandas==1.5.3  # Downgraded to match Colab's version  \n",
        "scipy==1.11.2  \n"
      ],
      "metadata": {
        "id": "j2MNuMrHRrAy"
      }
    },
    {
      "cell_type": "markdown",
      "source": [
        "## Checking release history of packages of an application\n",
        "We can use a table to estimate when an application was released"
      ],
      "metadata": {
        "id": "fEIe98It4wB8"
      }
    },
    {
      "cell_type": "code",
      "source": [
        "import requests\n",
        "from packaging import version\n",
        "import pandas as pd\n",
        "from datetime import datetime\n",
        "\n",
        "# Define the date range\n",
        "begin_date = datetime.strptime(\"2023-04-10\", \"%Y-%m-%d\").date()\n",
        "end_date = datetime.strptime(\"2024-04-10\", \"%Y-%m-%d\").date()\n",
        "\n",
        "packages = {\n",
        "    \"deeplake\": \"Data lake management and operations.\",\n",
        "    \"openai\": \"OpenAI's API client library.\",\n",
        "    \"tiktoken\": \"a fast  Byte-Pair Encoding (BPE) tokenizer for use with OpenAI's models.\",\n",
        "    \"transformers\": \"State-of-the-art NLP models and pipelines.\",\n",
        "    \"torch\": \"PyTorch, a deep learning framework.\",\n",
        "    \"numpy\": \"Fundamental package for scientific computing.\",\n",
        "    \"deepspeed\": \"Deep learning optimization library.\",\n",
        "    \"trl\": \"Transformers Reinforcement Learning.\",\n",
        "    \"peft\": \"Predictive Ensemble Forecasting Tool.\",\n",
        "    \"wandb\": \"Weights & Biases for machine learning experiment tracking.\",\n",
        "    \"bitsandbytes\": \"Efficient deep learning training.\",\n",
        "    \"accelerate\": \"Simplify multi-GPU/multi-node training.\",\n",
        "    \"tqdm\": \"Fast, extensible progress bar for loops.\",\n",
        "    \"neural_compressor\": \"Neural network optimization toolkit.\",\n",
        "    \"onnx\": \"Open Neural Network Exchange format.\",\n",
        "    \"pandas\": \"Data analysis and manipulation library.\",\n",
        "    \"scipy\": \"Scientific computing and technical computing.\"\n",
        "}\n",
        "\n",
        "# Initialize an empty DataFrame\n",
        "date_range = pd.date_range(begin_date, end_date, freq='M')  # Monthly frequency\n",
        "df = pd.DataFrame(index=packages.keys(), columns=date_range.strftime('%Y-%m'))\n",
        "\n",
        "# Fetch version data and populate the DataFrame\n",
        "for package in packages.keys():\n",
        "    response = requests.get(f'https://pypi.org/pypi/{package}/json')\n",
        "    if response.status_code == 200:\n",
        "        data = response.json()\n",
        "        releases = data.get('releases', {})\n",
        "        for version_key, releases_info in releases.items():\n",
        "            if releases_info:\n",
        "                # Get the latest upload time for the version\n",
        "                latest_release_date = datetime.strptime(releases_info[-1]['upload_time_iso_8601'].split('T')[0], '%Y-%m-%d').date()\n",
        "                if begin_date <= latest_release_date <= end_date:\n",
        "                    # Determine the column for the release month\n",
        "                    release_month = latest_release_date.strftime('%Y-%m')\n",
        "                    # Add the version to the DataFrame\n",
        "                    df.at[package, release_month] = version_key\n",
        "\n",
        "# Replace NaN values with an empty string or any other placeholder\n",
        "df = df.fillna('')\n",
        "df"
      ],
      "metadata": {
        "colab": {
          "base_uri": "https://localhost:8080/",
          "height": 582
        },
        "outputId": "ef860382-b36f-4589-910e-b9c21782371f",
        "id": "Avw6hks45JWv"
      },
      "execution_count": 8,
      "outputs": [
        {
          "output_type": "execute_result",
          "data": {
            "text/plain": [
              "                  2023-04    2023-05 2023-06 2023-07   2023-08    2023-09  \\\n",
              "deeplake            3.3.2      3.5.3   3.6.7   3.6.9    3.6.22      3.7.2   \n",
              "openai             0.27.5     0.27.7  0.27.8            0.28.0    1.0.0b1   \n",
              "tiktoken                       0.4.0                                0.5.1   \n",
              "transformers       4.28.1     4.29.2  4.30.2  4.31.0    4.32.1     4.33.3   \n",
              "torch                          2.0.1                                        \n",
              "numpy              1.24.3  1.25.0rc1  1.25.0  1.25.2  1.26.0b1  1.26.0rc1   \n",
              "deepspeed           0.9.1      0.9.2   0.9.5  0.10.0    0.10.2     0.10.3   \n",
              "trl                                    0.4.6   0.4.7     0.7.1              \n",
              "peft                           0.3.0           0.4.0     0.5.0              \n",
              "wandb              0.15.0     0.15.3  0.15.4  0.15.7    0.15.9   0.16.0b1   \n",
              "bitsandbytes       0.38.1     0.39.0  0.39.1  0.41.0    0.41.1              \n",
              "accelerate                    0.19.0  0.20.3  0.21.0    0.22.0     0.23.0   \n",
              "tqdm                                                    4.66.1              \n",
              "neural_compressor              2.1.1     2.2   2.2.1                2.3.1   \n",
              "onnx                          1.14.0                    1.14.1              \n",
              "pandas              2.0.1      2.0.2   2.0.3          2.1.0rc0      2.1.1   \n",
              "scipy                      1.11.0rc1  1.11.1            1.11.2     1.11.3   \n",
              "\n",
              "                    2023-10       2023-11       2023-12    2024-01 2024-02  \\\n",
              "deeplake              3.8.3         3.8.9        3.8.13     3.8.17  3.8.22   \n",
              "openai             1.0.0rc1         1.3.6         1.6.1      1.9.0  1.13.3   \n",
              "tiktoken                                          0.5.2              0.6.0   \n",
              "transformers         4.34.1        4.35.2        4.36.2     4.37.2  4.38.1   \n",
              "torch                 2.1.0         2.1.1         2.1.2      2.2.0   2.2.1   \n",
              "numpy                1.26.1        1.26.2                   1.26.3  1.26.4   \n",
              "deepspeed            0.11.1        0.12.3        0.12.6     0.13.1  0.13.4   \n",
              "trl                   0.7.2         0.7.4         0.7.7      0.7.9  0.7.11   \n",
              "peft                                0.6.2         0.7.1      0.8.1   0.9.0   \n",
              "wandb               0.15.12        0.16.0        0.16.1     0.16.2  0.16.3   \n",
              "bitsandbytes                 0.41.2.post2  0.41.3.post2     0.42.0           \n",
              "accelerate           0.24.1                      0.25.0     0.26.1  0.27.2   \n",
              "tqdm                                                                4.66.2   \n",
              "neural_compressor                   2.3.2         2.4.1                      \n",
              "onnx                 1.15.0                                                  \n",
              "pandas                2.1.2         2.1.3      2.2.0rc0      2.2.0   2.2.1   \n",
              "scipy                              1.11.4     1.12.0rc1  1.12.0rc2           \n",
              "\n",
              "                     2024-03 2024-04  \n",
              "deeplake              3.8.27   3.9.0  \n",
              "openai                1.14.3  1.16.2  \n",
              "tiktoken                              \n",
              "transformers          4.39.2  4.39.3  \n",
              "torch                  2.2.2          \n",
              "numpy               2.0.0rc1          \n",
              "deepspeed             0.14.0          \n",
              "trl                    0.8.1          \n",
              "peft                  0.10.0          \n",
              "wandb                 0.16.5  0.16.6  \n",
              "bitsandbytes          0.43.0          \n",
              "accelerate            0.28.0  0.29.1  \n",
              "tqdm                                  \n",
              "neural_compressor        2.5   2.5.1  \n",
              "onnx                  1.16.0          \n",
              "pandas                                \n",
              "scipy              1.13.0rc1  1.13.0  "
            ],
            "text/html": [
              "\n",
              "  <div id=\"df-677fdcfe-f0de-4c1b-8451-44943a4af9c7\" class=\"colab-df-container\">\n",
              "    <div>\n",
              "<style scoped>\n",
              "    .dataframe tbody tr th:only-of-type {\n",
              "        vertical-align: middle;\n",
              "    }\n",
              "\n",
              "    .dataframe tbody tr th {\n",
              "        vertical-align: top;\n",
              "    }\n",
              "\n",
              "    .dataframe thead th {\n",
              "        text-align: right;\n",
              "    }\n",
              "</style>\n",
              "<table border=\"1\" class=\"dataframe\">\n",
              "  <thead>\n",
              "    <tr style=\"text-align: right;\">\n",
              "      <th></th>\n",
              "      <th>2023-04</th>\n",
              "      <th>2023-05</th>\n",
              "      <th>2023-06</th>\n",
              "      <th>2023-07</th>\n",
              "      <th>2023-08</th>\n",
              "      <th>2023-09</th>\n",
              "      <th>2023-10</th>\n",
              "      <th>2023-11</th>\n",
              "      <th>2023-12</th>\n",
              "      <th>2024-01</th>\n",
              "      <th>2024-02</th>\n",
              "      <th>2024-03</th>\n",
              "      <th>2024-04</th>\n",
              "    </tr>\n",
              "  </thead>\n",
              "  <tbody>\n",
              "    <tr>\n",
              "      <th>deeplake</th>\n",
              "      <td>3.3.2</td>\n",
              "      <td>3.5.3</td>\n",
              "      <td>3.6.7</td>\n",
              "      <td>3.6.9</td>\n",
              "      <td>3.6.22</td>\n",
              "      <td>3.7.2</td>\n",
              "      <td>3.8.3</td>\n",
              "      <td>3.8.9</td>\n",
              "      <td>3.8.13</td>\n",
              "      <td>3.8.17</td>\n",
              "      <td>3.8.22</td>\n",
              "      <td>3.8.27</td>\n",
              "      <td>3.9.0</td>\n",
              "    </tr>\n",
              "    <tr>\n",
              "      <th>openai</th>\n",
              "      <td>0.27.5</td>\n",
              "      <td>0.27.7</td>\n",
              "      <td>0.27.8</td>\n",
              "      <td></td>\n",
              "      <td>0.28.0</td>\n",
              "      <td>1.0.0b1</td>\n",
              "      <td>1.0.0rc1</td>\n",
              "      <td>1.3.6</td>\n",
              "      <td>1.6.1</td>\n",
              "      <td>1.9.0</td>\n",
              "      <td>1.13.3</td>\n",
              "      <td>1.14.3</td>\n",
              "      <td>1.16.2</td>\n",
              "    </tr>\n",
              "    <tr>\n",
              "      <th>tiktoken</th>\n",
              "      <td></td>\n",
              "      <td>0.4.0</td>\n",
              "      <td></td>\n",
              "      <td></td>\n",
              "      <td></td>\n",
              "      <td>0.5.1</td>\n",
              "      <td></td>\n",
              "      <td></td>\n",
              "      <td>0.5.2</td>\n",
              "      <td></td>\n",
              "      <td>0.6.0</td>\n",
              "      <td></td>\n",
              "      <td></td>\n",
              "    </tr>\n",
              "    <tr>\n",
              "      <th>transformers</th>\n",
              "      <td>4.28.1</td>\n",
              "      <td>4.29.2</td>\n",
              "      <td>4.30.2</td>\n",
              "      <td>4.31.0</td>\n",
              "      <td>4.32.1</td>\n",
              "      <td>4.33.3</td>\n",
              "      <td>4.34.1</td>\n",
              "      <td>4.35.2</td>\n",
              "      <td>4.36.2</td>\n",
              "      <td>4.37.2</td>\n",
              "      <td>4.38.1</td>\n",
              "      <td>4.39.2</td>\n",
              "      <td>4.39.3</td>\n",
              "    </tr>\n",
              "    <tr>\n",
              "      <th>torch</th>\n",
              "      <td></td>\n",
              "      <td>2.0.1</td>\n",
              "      <td></td>\n",
              "      <td></td>\n",
              "      <td></td>\n",
              "      <td></td>\n",
              "      <td>2.1.0</td>\n",
              "      <td>2.1.1</td>\n",
              "      <td>2.1.2</td>\n",
              "      <td>2.2.0</td>\n",
              "      <td>2.2.1</td>\n",
              "      <td>2.2.2</td>\n",
              "      <td></td>\n",
              "    </tr>\n",
              "    <tr>\n",
              "      <th>numpy</th>\n",
              "      <td>1.24.3</td>\n",
              "      <td>1.25.0rc1</td>\n",
              "      <td>1.25.0</td>\n",
              "      <td>1.25.2</td>\n",
              "      <td>1.26.0b1</td>\n",
              "      <td>1.26.0rc1</td>\n",
              "      <td>1.26.1</td>\n",
              "      <td>1.26.2</td>\n",
              "      <td></td>\n",
              "      <td>1.26.3</td>\n",
              "      <td>1.26.4</td>\n",
              "      <td>2.0.0rc1</td>\n",
              "      <td></td>\n",
              "    </tr>\n",
              "    <tr>\n",
              "      <th>deepspeed</th>\n",
              "      <td>0.9.1</td>\n",
              "      <td>0.9.2</td>\n",
              "      <td>0.9.5</td>\n",
              "      <td>0.10.0</td>\n",
              "      <td>0.10.2</td>\n",
              "      <td>0.10.3</td>\n",
              "      <td>0.11.1</td>\n",
              "      <td>0.12.3</td>\n",
              "      <td>0.12.6</td>\n",
              "      <td>0.13.1</td>\n",
              "      <td>0.13.4</td>\n",
              "      <td>0.14.0</td>\n",
              "      <td></td>\n",
              "    </tr>\n",
              "    <tr>\n",
              "      <th>trl</th>\n",
              "      <td></td>\n",
              "      <td></td>\n",
              "      <td>0.4.6</td>\n",
              "      <td>0.4.7</td>\n",
              "      <td>0.7.1</td>\n",
              "      <td></td>\n",
              "      <td>0.7.2</td>\n",
              "      <td>0.7.4</td>\n",
              "      <td>0.7.7</td>\n",
              "      <td>0.7.9</td>\n",
              "      <td>0.7.11</td>\n",
              "      <td>0.8.1</td>\n",
              "      <td></td>\n",
              "    </tr>\n",
              "    <tr>\n",
              "      <th>peft</th>\n",
              "      <td></td>\n",
              "      <td>0.3.0</td>\n",
              "      <td></td>\n",
              "      <td>0.4.0</td>\n",
              "      <td>0.5.0</td>\n",
              "      <td></td>\n",
              "      <td></td>\n",
              "      <td>0.6.2</td>\n",
              "      <td>0.7.1</td>\n",
              "      <td>0.8.1</td>\n",
              "      <td>0.9.0</td>\n",
              "      <td>0.10.0</td>\n",
              "      <td></td>\n",
              "    </tr>\n",
              "    <tr>\n",
              "      <th>wandb</th>\n",
              "      <td>0.15.0</td>\n",
              "      <td>0.15.3</td>\n",
              "      <td>0.15.4</td>\n",
              "      <td>0.15.7</td>\n",
              "      <td>0.15.9</td>\n",
              "      <td>0.16.0b1</td>\n",
              "      <td>0.15.12</td>\n",
              "      <td>0.16.0</td>\n",
              "      <td>0.16.1</td>\n",
              "      <td>0.16.2</td>\n",
              "      <td>0.16.3</td>\n",
              "      <td>0.16.5</td>\n",
              "      <td>0.16.6</td>\n",
              "    </tr>\n",
              "    <tr>\n",
              "      <th>bitsandbytes</th>\n",
              "      <td>0.38.1</td>\n",
              "      <td>0.39.0</td>\n",
              "      <td>0.39.1</td>\n",
              "      <td>0.41.0</td>\n",
              "      <td>0.41.1</td>\n",
              "      <td></td>\n",
              "      <td></td>\n",
              "      <td>0.41.2.post2</td>\n",
              "      <td>0.41.3.post2</td>\n",
              "      <td>0.42.0</td>\n",
              "      <td></td>\n",
              "      <td>0.43.0</td>\n",
              "      <td></td>\n",
              "    </tr>\n",
              "    <tr>\n",
              "      <th>accelerate</th>\n",
              "      <td></td>\n",
              "      <td>0.19.0</td>\n",
              "      <td>0.20.3</td>\n",
              "      <td>0.21.0</td>\n",
              "      <td>0.22.0</td>\n",
              "      <td>0.23.0</td>\n",
              "      <td>0.24.1</td>\n",
              "      <td></td>\n",
              "      <td>0.25.0</td>\n",
              "      <td>0.26.1</td>\n",
              "      <td>0.27.2</td>\n",
              "      <td>0.28.0</td>\n",
              "      <td>0.29.1</td>\n",
              "    </tr>\n",
              "    <tr>\n",
              "      <th>tqdm</th>\n",
              "      <td></td>\n",
              "      <td></td>\n",
              "      <td></td>\n",
              "      <td></td>\n",
              "      <td>4.66.1</td>\n",
              "      <td></td>\n",
              "      <td></td>\n",
              "      <td></td>\n",
              "      <td></td>\n",
              "      <td></td>\n",
              "      <td>4.66.2</td>\n",
              "      <td></td>\n",
              "      <td></td>\n",
              "    </tr>\n",
              "    <tr>\n",
              "      <th>neural_compressor</th>\n",
              "      <td></td>\n",
              "      <td>2.1.1</td>\n",
              "      <td>2.2</td>\n",
              "      <td>2.2.1</td>\n",
              "      <td></td>\n",
              "      <td>2.3.1</td>\n",
              "      <td></td>\n",
              "      <td>2.3.2</td>\n",
              "      <td>2.4.1</td>\n",
              "      <td></td>\n",
              "      <td></td>\n",
              "      <td>2.5</td>\n",
              "      <td>2.5.1</td>\n",
              "    </tr>\n",
              "    <tr>\n",
              "      <th>onnx</th>\n",
              "      <td></td>\n",
              "      <td>1.14.0</td>\n",
              "      <td></td>\n",
              "      <td></td>\n",
              "      <td>1.14.1</td>\n",
              "      <td></td>\n",
              "      <td>1.15.0</td>\n",
              "      <td></td>\n",
              "      <td></td>\n",
              "      <td></td>\n",
              "      <td></td>\n",
              "      <td>1.16.0</td>\n",
              "      <td></td>\n",
              "    </tr>\n",
              "    <tr>\n",
              "      <th>pandas</th>\n",
              "      <td>2.0.1</td>\n",
              "      <td>2.0.2</td>\n",
              "      <td>2.0.3</td>\n",
              "      <td></td>\n",
              "      <td>2.1.0rc0</td>\n",
              "      <td>2.1.1</td>\n",
              "      <td>2.1.2</td>\n",
              "      <td>2.1.3</td>\n",
              "      <td>2.2.0rc0</td>\n",
              "      <td>2.2.0</td>\n",
              "      <td>2.2.1</td>\n",
              "      <td></td>\n",
              "      <td></td>\n",
              "    </tr>\n",
              "    <tr>\n",
              "      <th>scipy</th>\n",
              "      <td></td>\n",
              "      <td>1.11.0rc1</td>\n",
              "      <td>1.11.1</td>\n",
              "      <td></td>\n",
              "      <td>1.11.2</td>\n",
              "      <td>1.11.3</td>\n",
              "      <td></td>\n",
              "      <td>1.11.4</td>\n",
              "      <td>1.12.0rc1</td>\n",
              "      <td>1.12.0rc2</td>\n",
              "      <td></td>\n",
              "      <td>1.13.0rc1</td>\n",
              "      <td>1.13.0</td>\n",
              "    </tr>\n",
              "  </tbody>\n",
              "</table>\n",
              "</div>\n",
              "    <div class=\"colab-df-buttons\">\n",
              "\n",
              "  <div class=\"colab-df-container\">\n",
              "    <button class=\"colab-df-convert\" onclick=\"convertToInteractive('df-677fdcfe-f0de-4c1b-8451-44943a4af9c7')\"\n",
              "            title=\"Convert this dataframe to an interactive table.\"\n",
              "            style=\"display:none;\">\n",
              "\n",
              "  <svg xmlns=\"http://www.w3.org/2000/svg\" height=\"24px\" viewBox=\"0 -960 960 960\">\n",
              "    <path d=\"M120-120v-720h720v720H120Zm60-500h600v-160H180v160Zm220 220h160v-160H400v160Zm0 220h160v-160H400v160ZM180-400h160v-160H180v160Zm440 0h160v-160H620v160ZM180-180h160v-160H180v160Zm440 0h160v-160H620v160Z\"/>\n",
              "  </svg>\n",
              "    </button>\n",
              "\n",
              "  <style>\n",
              "    .colab-df-container {\n",
              "      display:flex;\n",
              "      gap: 12px;\n",
              "    }\n",
              "\n",
              "    .colab-df-convert {\n",
              "      background-color: #E8F0FE;\n",
              "      border: none;\n",
              "      border-radius: 50%;\n",
              "      cursor: pointer;\n",
              "      display: none;\n",
              "      fill: #1967D2;\n",
              "      height: 32px;\n",
              "      padding: 0 0 0 0;\n",
              "      width: 32px;\n",
              "    }\n",
              "\n",
              "    .colab-df-convert:hover {\n",
              "      background-color: #E2EBFA;\n",
              "      box-shadow: 0px 1px 2px rgba(60, 64, 67, 0.3), 0px 1px 3px 1px rgba(60, 64, 67, 0.15);\n",
              "      fill: #174EA6;\n",
              "    }\n",
              "\n",
              "    .colab-df-buttons div {\n",
              "      margin-bottom: 4px;\n",
              "    }\n",
              "\n",
              "    [theme=dark] .colab-df-convert {\n",
              "      background-color: #3B4455;\n",
              "      fill: #D2E3FC;\n",
              "    }\n",
              "\n",
              "    [theme=dark] .colab-df-convert:hover {\n",
              "      background-color: #434B5C;\n",
              "      box-shadow: 0px 1px 3px 1px rgba(0, 0, 0, 0.15);\n",
              "      filter: drop-shadow(0px 1px 2px rgba(0, 0, 0, 0.3));\n",
              "      fill: #FFFFFF;\n",
              "    }\n",
              "  </style>\n",
              "\n",
              "    <script>\n",
              "      const buttonEl =\n",
              "        document.querySelector('#df-677fdcfe-f0de-4c1b-8451-44943a4af9c7 button.colab-df-convert');\n",
              "      buttonEl.style.display =\n",
              "        google.colab.kernel.accessAllowed ? 'block' : 'none';\n",
              "\n",
              "      async function convertToInteractive(key) {\n",
              "        const element = document.querySelector('#df-677fdcfe-f0de-4c1b-8451-44943a4af9c7');\n",
              "        const dataTable =\n",
              "          await google.colab.kernel.invokeFunction('convertToInteractive',\n",
              "                                                    [key], {});\n",
              "        if (!dataTable) return;\n",
              "\n",
              "        const docLinkHtml = 'Like what you see? Visit the ' +\n",
              "          '<a target=\"_blank\" href=https://colab.research.google.com/notebooks/data_table.ipynb>data table notebook</a>'\n",
              "          + ' to learn more about interactive tables.';\n",
              "        element.innerHTML = '';\n",
              "        dataTable['output_type'] = 'display_data';\n",
              "        await google.colab.output.renderOutput(dataTable, element);\n",
              "        const docLink = document.createElement('div');\n",
              "        docLink.innerHTML = docLinkHtml;\n",
              "        element.appendChild(docLink);\n",
              "      }\n",
              "    </script>\n",
              "  </div>\n",
              "\n",
              "\n",
              "<div id=\"df-09276dba-159e-428a-838d-0be4161774b6\">\n",
              "  <button class=\"colab-df-quickchart\" onclick=\"quickchart('df-09276dba-159e-428a-838d-0be4161774b6')\"\n",
              "            title=\"Suggest charts\"\n",
              "            style=\"display:none;\">\n",
              "\n",
              "<svg xmlns=\"http://www.w3.org/2000/svg\" height=\"24px\"viewBox=\"0 0 24 24\"\n",
              "     width=\"24px\">\n",
              "    <g>\n",
              "        <path d=\"M19 3H5c-1.1 0-2 .9-2 2v14c0 1.1.9 2 2 2h14c1.1 0 2-.9 2-2V5c0-1.1-.9-2-2-2zM9 17H7v-7h2v7zm4 0h-2V7h2v10zm4 0h-2v-4h2v4z\"/>\n",
              "    </g>\n",
              "</svg>\n",
              "  </button>\n",
              "\n",
              "<style>\n",
              "  .colab-df-quickchart {\n",
              "      --bg-color: #E8F0FE;\n",
              "      --fill-color: #1967D2;\n",
              "      --hover-bg-color: #E2EBFA;\n",
              "      --hover-fill-color: #174EA6;\n",
              "      --disabled-fill-color: #AAA;\n",
              "      --disabled-bg-color: #DDD;\n",
              "  }\n",
              "\n",
              "  [theme=dark] .colab-df-quickchart {\n",
              "      --bg-color: #3B4455;\n",
              "      --fill-color: #D2E3FC;\n",
              "      --hover-bg-color: #434B5C;\n",
              "      --hover-fill-color: #FFFFFF;\n",
              "      --disabled-bg-color: #3B4455;\n",
              "      --disabled-fill-color: #666;\n",
              "  }\n",
              "\n",
              "  .colab-df-quickchart {\n",
              "    background-color: var(--bg-color);\n",
              "    border: none;\n",
              "    border-radius: 50%;\n",
              "    cursor: pointer;\n",
              "    display: none;\n",
              "    fill: var(--fill-color);\n",
              "    height: 32px;\n",
              "    padding: 0;\n",
              "    width: 32px;\n",
              "  }\n",
              "\n",
              "  .colab-df-quickchart:hover {\n",
              "    background-color: var(--hover-bg-color);\n",
              "    box-shadow: 0 1px 2px rgba(60, 64, 67, 0.3), 0 1px 3px 1px rgba(60, 64, 67, 0.15);\n",
              "    fill: var(--button-hover-fill-color);\n",
              "  }\n",
              "\n",
              "  .colab-df-quickchart-complete:disabled,\n",
              "  .colab-df-quickchart-complete:disabled:hover {\n",
              "    background-color: var(--disabled-bg-color);\n",
              "    fill: var(--disabled-fill-color);\n",
              "    box-shadow: none;\n",
              "  }\n",
              "\n",
              "  .colab-df-spinner {\n",
              "    border: 2px solid var(--fill-color);\n",
              "    border-color: transparent;\n",
              "    border-bottom-color: var(--fill-color);\n",
              "    animation:\n",
              "      spin 1s steps(1) infinite;\n",
              "  }\n",
              "\n",
              "  @keyframes spin {\n",
              "    0% {\n",
              "      border-color: transparent;\n",
              "      border-bottom-color: var(--fill-color);\n",
              "      border-left-color: var(--fill-color);\n",
              "    }\n",
              "    20% {\n",
              "      border-color: transparent;\n",
              "      border-left-color: var(--fill-color);\n",
              "      border-top-color: var(--fill-color);\n",
              "    }\n",
              "    30% {\n",
              "      border-color: transparent;\n",
              "      border-left-color: var(--fill-color);\n",
              "      border-top-color: var(--fill-color);\n",
              "      border-right-color: var(--fill-color);\n",
              "    }\n",
              "    40% {\n",
              "      border-color: transparent;\n",
              "      border-right-color: var(--fill-color);\n",
              "      border-top-color: var(--fill-color);\n",
              "    }\n",
              "    60% {\n",
              "      border-color: transparent;\n",
              "      border-right-color: var(--fill-color);\n",
              "    }\n",
              "    80% {\n",
              "      border-color: transparent;\n",
              "      border-right-color: var(--fill-color);\n",
              "      border-bottom-color: var(--fill-color);\n",
              "    }\n",
              "    90% {\n",
              "      border-color: transparent;\n",
              "      border-bottom-color: var(--fill-color);\n",
              "    }\n",
              "  }\n",
              "</style>\n",
              "\n",
              "  <script>\n",
              "    async function quickchart(key) {\n",
              "      const quickchartButtonEl =\n",
              "        document.querySelector('#' + key + ' button');\n",
              "      quickchartButtonEl.disabled = true;  // To prevent multiple clicks.\n",
              "      quickchartButtonEl.classList.add('colab-df-spinner');\n",
              "      try {\n",
              "        const charts = await google.colab.kernel.invokeFunction(\n",
              "            'suggestCharts', [key], {});\n",
              "      } catch (error) {\n",
              "        console.error('Error during call to suggestCharts:', error);\n",
              "      }\n",
              "      quickchartButtonEl.classList.remove('colab-df-spinner');\n",
              "      quickchartButtonEl.classList.add('colab-df-quickchart-complete');\n",
              "    }\n",
              "    (() => {\n",
              "      let quickchartButtonEl =\n",
              "        document.querySelector('#df-09276dba-159e-428a-838d-0be4161774b6 button');\n",
              "      quickchartButtonEl.style.display =\n",
              "        google.colab.kernel.accessAllowed ? 'block' : 'none';\n",
              "    })();\n",
              "  </script>\n",
              "</div>\n",
              "    </div>\n",
              "  </div>\n"
            ],
            "application/vnd.google.colaboratory.intrinsic+json": {
              "type": "dataframe",
              "variable_name": "df",
              "summary": "{\n  \"name\": \"df\",\n  \"rows\": 17,\n  \"fields\": [\n    {\n      \"column\": \"2023-04\",\n      \"properties\": {\n        \"dtype\": \"string\",\n        \"num_unique_values\": 9,\n        \"samples\": [\n          \"0.38.1\",\n          \"0.27.5\",\n          \"0.9.1\"\n        ],\n        \"semantic_type\": \"\",\n        \"description\": \"\"\n      }\n    },\n    {\n      \"column\": \"2023-05\",\n      \"properties\": {\n        \"dtype\": \"string\",\n        \"num_unique_values\": 16,\n        \"samples\": [\n          \"3.5.3\",\n          \"0.27.7\",\n          \"1.25.0rc1\"\n        ],\n        \"semantic_type\": \"\",\n        \"description\": \"\"\n      }\n    },\n    {\n      \"column\": \"2023-06\",\n      \"properties\": {\n        \"dtype\": \"string\",\n        \"num_unique_values\": 13,\n        \"samples\": [\n          \"2.0.3\",\n          \"0.20.3\",\n          \"3.6.7\"\n        ],\n        \"semantic_type\": \"\",\n        \"description\": \"\"\n      }\n    },\n    {\n      \"column\": \"2023-07\",\n      \"properties\": {\n        \"dtype\": \"string\",\n        \"num_unique_values\": 11,\n        \"samples\": [\n          \"0.4.7\",\n          \"3.6.9\",\n          \"0.21.0\"\n        ],\n        \"semantic_type\": \"\",\n        \"description\": \"\"\n      }\n    },\n    {\n      \"column\": \"2023-08\",\n      \"properties\": {\n        \"dtype\": \"string\",\n        \"num_unique_values\": 15,\n        \"samples\": [\n          \"0.41.1\",\n          \"4.66.1\",\n          \"3.6.22\"\n        ],\n        \"semantic_type\": \"\",\n        \"description\": \"\"\n      }\n    },\n    {\n      \"column\": \"2023-09\",\n      \"properties\": {\n        \"dtype\": \"string\",\n        \"num_unique_values\": 12,\n        \"samples\": [\n          \"2.1.1\",\n          \"2.3.1\",\n          \"3.7.2\"\n        ],\n        \"semantic_type\": \"\",\n        \"description\": \"\"\n      }\n    },\n    {\n      \"column\": \"2023-10\",\n      \"properties\": {\n        \"dtype\": \"string\",\n        \"num_unique_values\": 12,\n        \"samples\": [\n          \"1.15.0\",\n          \"0.24.1\",\n          \"3.8.3\"\n        ],\n        \"semantic_type\": \"\",\n        \"description\": \"\"\n      }\n    },\n    {\n      \"column\": \"2023-11\",\n      \"properties\": {\n        \"dtype\": \"string\",\n        \"num_unique_values\": 14,\n        \"samples\": [\n          \"0.16.0\",\n          \"2.3.2\",\n          \"3.8.9\"\n        ],\n        \"semantic_type\": \"\",\n        \"description\": \"\"\n      }\n    },\n    {\n      \"column\": \"2023-12\",\n      \"properties\": {\n        \"dtype\": \"string\",\n        \"num_unique_values\": 15,\n        \"samples\": [\n          \"0.16.1\",\n          \"0.25.0\",\n          \"3.8.13\"\n        ],\n        \"semantic_type\": \"\",\n        \"description\": \"\"\n      }\n    },\n    {\n      \"column\": \"2024-01\",\n      \"properties\": {\n        \"dtype\": \"string\",\n        \"num_unique_values\": 13,\n        \"samples\": [\n          \"0.26.1\",\n          \"0.16.2\",\n          \"3.8.17\"\n        ],\n        \"semantic_type\": \"\",\n        \"description\": \"\"\n      }\n    },\n    {\n      \"column\": \"2024-02\",\n      \"properties\": {\n        \"dtype\": \"string\",\n        \"num_unique_values\": 13,\n        \"samples\": [\n          \"0.27.2\",\n          \"0.16.3\",\n          \"3.8.22\"\n        ],\n        \"semantic_type\": \"\",\n        \"description\": \"\"\n      }\n    },\n    {\n      \"column\": \"2024-03\",\n      \"properties\": {\n        \"dtype\": \"string\",\n        \"num_unique_values\": 15,\n        \"samples\": [\n          \"0.16.5\",\n          \"0.28.0\",\n          \"3.8.27\"\n        ],\n        \"semantic_type\": \"\",\n        \"description\": \"\"\n      }\n    },\n    {\n      \"column\": \"2024-04\",\n      \"properties\": {\n        \"dtype\": \"category\",\n        \"num_unique_values\": 8,\n        \"samples\": [\n          \"1.16.2\",\n          \"0.29.1\",\n          \"3.9.0\"\n        ],\n        \"semantic_type\": \"\",\n        \"description\": \"\"\n      }\n    }\n  ]\n}"
            }
          },
          "metadata": {},
          "execution_count": 8
        }
      ]
    },
    {
      "cell_type": "markdown",
      "source": [
        "## Using dry-runs to analyze version compatibilty"
      ],
      "metadata": {
        "id": "4z_lFoCq8lu_"
      }
    },
    {
      "cell_type": "code",
      "source": [
        "!pip install deeplake==3.6.19 --dry-run"
      ],
      "metadata": {
        "colab": {
          "base_uri": "https://localhost:8080/"
        },
        "id": "ea2XyEb36m8y",
        "outputId": "6c37e7c3-bdd5-47e0-af5f-f36b11519e02"
      },
      "execution_count": 9,
      "outputs": [
        {
          "output_type": "stream",
          "name": "stdout",
          "text": [
            "Collecting deeplake==3.6.19\n",
            "  Downloading deeplake-3.6.19.tar.gz (532 kB)\n",
            "\u001b[2K     \u001b[90m━━━━━━━━━━━━━━━━━━━━━━━━━━━━━━━━━━━━━━━━\u001b[0m \u001b[32m532.9/532.9 kB\u001b[0m \u001b[31m6.1 MB/s\u001b[0m eta \u001b[36m0:00:00\u001b[0m\n",
            "\u001b[?25h  Preparing metadata (setup.py) ... \u001b[?25l\u001b[?25hdone\n",
            "Requirement already satisfied: numpy in /usr/local/lib/python3.10/dist-packages (from deeplake==3.6.19) (1.25.2)\n",
            "Requirement already satisfied: pillow in /usr/local/lib/python3.10/dist-packages (from deeplake==3.6.19) (9.4.0)\n",
            "Collecting boto3 (from deeplake==3.6.19)\n",
            "  Downloading boto3-1.34.79-py3-none-any.whl (139 kB)\n",
            "\u001b[2K     \u001b[90m━━━━━━━━━━━━━━━━━━━━━━━━━━━━━━━━━━━━━━━━\u001b[0m \u001b[32m139.3/139.3 kB\u001b[0m \u001b[31m10.8 MB/s\u001b[0m eta \u001b[36m0:00:00\u001b[0m\n",
            "\u001b[?25hRequirement already satisfied: click in /usr/local/lib/python3.10/dist-packages (from deeplake==3.6.19) (8.1.7)\n",
            "Collecting pathos (from deeplake==3.6.19)\n",
            "  Downloading pathos-0.3.2-py3-none-any.whl (82 kB)\n",
            "\u001b[2K     \u001b[90m━━━━━━━━━━━━━━━━━━━━━━━━━━━━━━━━━━━━━━━━\u001b[0m \u001b[32m82.1/82.1 kB\u001b[0m \u001b[31m10.4 MB/s\u001b[0m eta \u001b[36m0:00:00\u001b[0m\n",
            "\u001b[?25hCollecting humbug>=0.3.1 (from deeplake==3.6.19)\n",
            "  Downloading humbug-0.3.2-py3-none-any.whl (15 kB)\n",
            "Requirement already satisfied: tqdm in /usr/local/lib/python3.10/dist-packages (from deeplake==3.6.19) (4.66.2)\n",
            "Collecting numcodecs (from deeplake==3.6.19)\n",
            "  Downloading numcodecs-0.12.1-cp310-cp310-manylinux_2_17_x86_64.manylinux2014_x86_64.whl (7.7 MB)\n",
            "\u001b[2K     \u001b[90m━━━━━━━━━━━━━━━━━━━━━━━━━━━━━━━━━━━━━━━━\u001b[0m \u001b[32m7.7/7.7 MB\u001b[0m \u001b[31m24.9 MB/s\u001b[0m eta \u001b[36m0:00:00\u001b[0m\n",
            "\u001b[?25hRequirement already satisfied: pyjwt in /usr/lib/python3/dist-packages (from deeplake==3.6.19) (2.3.0)\n",
            "Collecting aioboto3>=10.4.0 (from deeplake==3.6.19)\n",
            "  Downloading aioboto3-12.3.0-py3-none-any.whl (32 kB)\n",
            "Requirement already satisfied: nest_asyncio in /usr/local/lib/python3.10/dist-packages (from deeplake==3.6.19) (1.6.0)\n",
            "Collecting aiobotocore[boto3]==2.11.2 (from aioboto3>=10.4.0->deeplake==3.6.19)\n",
            "  Downloading aiobotocore-2.11.2-py3-none-any.whl (76 kB)\n",
            "\u001b[2K     \u001b[90m━━━━━━━━━━━━━━━━━━━━━━━━━━━━━━━━━━━━━━━━\u001b[0m \u001b[32m76.1/76.1 kB\u001b[0m \u001b[31m9.2 MB/s\u001b[0m eta \u001b[36m0:00:00\u001b[0m\n",
            "\u001b[?25hCollecting botocore<1.34.35,>=1.33.2 (from aiobotocore[boto3]==2.11.2->aioboto3>=10.4.0->deeplake==3.6.19)\n",
            "  Downloading botocore-1.34.34-py3-none-any.whl (11.9 MB)\n",
            "\u001b[2K     \u001b[90m━━━━━━━━━━━━━━━━━━━━━━━━━━━━━━━━━━━━━━━━\u001b[0m \u001b[32m11.9/11.9 MB\u001b[0m \u001b[31m51.3 MB/s\u001b[0m eta \u001b[36m0:00:00\u001b[0m\n",
            "\u001b[?25hRequirement already satisfied: aiohttp<4.0.0,>=3.7.4.post0 in /usr/local/lib/python3.10/dist-packages (from aiobotocore[boto3]==2.11.2->aioboto3>=10.4.0->deeplake==3.6.19) (3.9.3)\n",
            "Requirement already satisfied: wrapt<2.0.0,>=1.10.10 in /usr/local/lib/python3.10/dist-packages (from aiobotocore[boto3]==2.11.2->aioboto3>=10.4.0->deeplake==3.6.19) (1.14.1)\n",
            "Collecting aioitertools<1.0.0,>=0.5.1 (from aiobotocore[boto3]==2.11.2->aioboto3>=10.4.0->deeplake==3.6.19)\n",
            "  Downloading aioitertools-0.11.0-py3-none-any.whl (23 kB)\n",
            "Collecting boto3 (from deeplake==3.6.19)\n",
            "  Downloading boto3-1.34.34-py3-none-any.whl (139 kB)\n",
            "\u001b[2K     \u001b[90m━━━━━━━━━━━━━━━━━━━━━━━━━━━━━━━━━━━━━━━━\u001b[0m \u001b[32m139.3/139.3 kB\u001b[0m \u001b[31m15.9 MB/s\u001b[0m eta \u001b[36m0:00:00\u001b[0m\n",
            "\u001b[?25hCollecting jmespath<2.0.0,>=0.7.1 (from boto3->deeplake==3.6.19)\n",
            "  Downloading jmespath-1.0.1-py3-none-any.whl (20 kB)\n",
            "Collecting s3transfer<0.11.0,>=0.10.0 (from boto3->deeplake==3.6.19)\n",
            "  Downloading s3transfer-0.10.1-py3-none-any.whl (82 kB)\n",
            "\u001b[2K     \u001b[90m━━━━━━━━━━━━━━━━━━━━━━━━━━━━━━━━━━━━━━━━\u001b[0m \u001b[32m82.2/82.2 kB\u001b[0m \u001b[31m9.9 MB/s\u001b[0m eta \u001b[36m0:00:00\u001b[0m\n",
            "\u001b[?25hRequirement already satisfied: requests in /usr/local/lib/python3.10/dist-packages (from humbug>=0.3.1->deeplake==3.6.19) (2.31.0)\n",
            "Collecting ppft>=1.7.6.8 (from pathos->deeplake==3.6.19)\n",
            "  Downloading ppft-1.7.6.8-py3-none-any.whl (56 kB)\n",
            "\u001b[2K     \u001b[90m━━━━━━━━━━━━━━━━━━━━━━━━━━━━━━━━━━━━━━━━\u001b[0m \u001b[32m56.8/56.8 kB\u001b[0m \u001b[31m6.6 MB/s\u001b[0m eta \u001b[36m0:00:00\u001b[0m\n",
            "\u001b[?25hCollecting dill>=0.3.8 (from pathos->deeplake==3.6.19)\n",
            "  Downloading dill-0.3.8-py3-none-any.whl (116 kB)\n",
            "\u001b[2K     \u001b[90m━━━━━━━━━━━━━━━━━━━━━━━━━━━━━━━━━━━━━━━━\u001b[0m \u001b[32m116.3/116.3 kB\u001b[0m \u001b[31m14.7 MB/s\u001b[0m eta \u001b[36m0:00:00\u001b[0m\n",
            "\u001b[?25hCollecting pox>=0.3.4 (from pathos->deeplake==3.6.19)\n",
            "  Downloading pox-0.3.4-py3-none-any.whl (29 kB)\n",
            "Collecting multiprocess>=0.70.16 (from pathos->deeplake==3.6.19)\n",
            "  Downloading multiprocess-0.70.16-py310-none-any.whl (134 kB)\n",
            "\u001b[2K     \u001b[90m━━━━━━━━━━━━━━━━━━━━━━━━━━━━━━━━━━━━━━━━\u001b[0m \u001b[32m134.8/134.8 kB\u001b[0m \u001b[31m17.5 MB/s\u001b[0m eta \u001b[36m0:00:00\u001b[0m\n",
            "\u001b[?25hRequirement already satisfied: python-dateutil<3.0.0,>=2.1 in /usr/local/lib/python3.10/dist-packages (from botocore<1.34.35,>=1.33.2->aiobotocore[boto3]==2.11.2->aioboto3>=10.4.0->deeplake==3.6.19) (2.8.2)\n",
            "Requirement already satisfied: urllib3<2.1,>=1.25.4 in /usr/local/lib/python3.10/dist-packages (from botocore<1.34.35,>=1.33.2->aiobotocore[boto3]==2.11.2->aioboto3>=10.4.0->deeplake==3.6.19) (2.0.7)\n",
            "Requirement already satisfied: charset-normalizer<4,>=2 in /usr/local/lib/python3.10/dist-packages (from requests->humbug>=0.3.1->deeplake==3.6.19) (3.3.2)\n",
            "Requirement already satisfied: idna<4,>=2.5 in /usr/local/lib/python3.10/dist-packages (from requests->humbug>=0.3.1->deeplake==3.6.19) (3.6)\n",
            "Requirement already satisfied: certifi>=2017.4.17 in /usr/local/lib/python3.10/dist-packages (from requests->humbug>=0.3.1->deeplake==3.6.19) (2024.2.2)\n",
            "Requirement already satisfied: aiosignal>=1.1.2 in /usr/local/lib/python3.10/dist-packages (from aiohttp<4.0.0,>=3.7.4.post0->aiobotocore[boto3]==2.11.2->aioboto3>=10.4.0->deeplake==3.6.19) (1.3.1)\n",
            "Requirement already satisfied: attrs>=17.3.0 in /usr/local/lib/python3.10/dist-packages (from aiohttp<4.0.0,>=3.7.4.post0->aiobotocore[boto3]==2.11.2->aioboto3>=10.4.0->deeplake==3.6.19) (23.2.0)\n",
            "Requirement already satisfied: frozenlist>=1.1.1 in /usr/local/lib/python3.10/dist-packages (from aiohttp<4.0.0,>=3.7.4.post0->aiobotocore[boto3]==2.11.2->aioboto3>=10.4.0->deeplake==3.6.19) (1.4.1)\n",
            "Requirement already satisfied: multidict<7.0,>=4.5 in /usr/local/lib/python3.10/dist-packages (from aiohttp<4.0.0,>=3.7.4.post0->aiobotocore[boto3]==2.11.2->aioboto3>=10.4.0->deeplake==3.6.19) (6.0.5)\n",
            "Requirement already satisfied: yarl<2.0,>=1.0 in /usr/local/lib/python3.10/dist-packages (from aiohttp<4.0.0,>=3.7.4.post0->aiobotocore[boto3]==2.11.2->aioboto3>=10.4.0->deeplake==3.6.19) (1.9.4)\n",
            "Requirement already satisfied: async-timeout<5.0,>=4.0 in /usr/local/lib/python3.10/dist-packages (from aiohttp<4.0.0,>=3.7.4.post0->aiobotocore[boto3]==2.11.2->aioboto3>=10.4.0->deeplake==3.6.19) (4.0.3)\n",
            "Requirement already satisfied: six>=1.5 in /usr/local/lib/python3.10/dist-packages (from python-dateutil<3.0.0,>=2.1->botocore<1.34.35,>=1.33.2->aiobotocore[boto3]==2.11.2->aioboto3>=10.4.0->deeplake==3.6.19) (1.16.0)\n",
            "Would install aioboto3-12.3.0 aiobotocore-2.11.2 aioitertools-0.11.0 boto3-1.34.34 botocore-1.34.34 deeplake-3.6.19 dill-0.3.8 humbug-0.3.2 jmespath-1.0.1 multiprocess-0.70.16 numcodecs-0.12.1 pathos-0.3.2 pox-0.3.4 ppft-1.7.6.8 s3transfer-0.10.1\n"
          ]
        }
      ]
    },
    {
      "cell_type": "code",
      "source": [
        "!pip install openai==0.27.8 --dry-run"
      ],
      "metadata": {
        "colab": {
          "base_uri": "https://localhost:8080/"
        },
        "id": "NCbByF6K7BOG",
        "outputId": "f1e1daf5-5c84-4e61-8981-4a41d0c1d83f"
      },
      "execution_count": 10,
      "outputs": [
        {
          "output_type": "stream",
          "name": "stdout",
          "text": [
            "Collecting openai==0.27.8\n",
            "  Downloading openai-0.27.8-py3-none-any.whl (73 kB)\n",
            "\u001b[?25l     \u001b[90m━━━━━━━━━━━━━━━━━━━━━━━━━━━━━━━━━━━━━━━━\u001b[0m \u001b[32m0.0/73.6 kB\u001b[0m \u001b[31m?\u001b[0m eta \u001b[36m-:--:--\u001b[0m\r\u001b[2K     \u001b[91m━━━━━━━━━━━━━━━━━━━━━━━━━━━━━━━━━━━━━━\u001b[0m\u001b[91m╸\u001b[0m\u001b[90m━\u001b[0m \u001b[32m71.7/73.6 kB\u001b[0m \u001b[31m2.2 MB/s\u001b[0m eta \u001b[36m0:00:01\u001b[0m\r\u001b[2K     \u001b[90m━━━━━━━━━━━━━━━━━━━━━━━━━━━━━━━━━━━━━━━━\u001b[0m \u001b[32m73.6/73.6 kB\u001b[0m \u001b[31m1.7 MB/s\u001b[0m eta \u001b[36m0:00:00\u001b[0m\n",
            "\u001b[?25hRequirement already satisfied: requests>=2.20 in /usr/local/lib/python3.10/dist-packages (from openai==0.27.8) (2.31.0)\n",
            "Requirement already satisfied: tqdm in /usr/local/lib/python3.10/dist-packages (from openai==0.27.8) (4.66.2)\n",
            "Requirement already satisfied: aiohttp in /usr/local/lib/python3.10/dist-packages (from openai==0.27.8) (3.9.3)\n",
            "Requirement already satisfied: charset-normalizer<4,>=2 in /usr/local/lib/python3.10/dist-packages (from requests>=2.20->openai==0.27.8) (3.3.2)\n",
            "Requirement already satisfied: idna<4,>=2.5 in /usr/local/lib/python3.10/dist-packages (from requests>=2.20->openai==0.27.8) (3.6)\n",
            "Requirement already satisfied: urllib3<3,>=1.21.1 in /usr/local/lib/python3.10/dist-packages (from requests>=2.20->openai==0.27.8) (2.0.7)\n",
            "Requirement already satisfied: certifi>=2017.4.17 in /usr/local/lib/python3.10/dist-packages (from requests>=2.20->openai==0.27.8) (2024.2.2)\n",
            "Requirement already satisfied: aiosignal>=1.1.2 in /usr/local/lib/python3.10/dist-packages (from aiohttp->openai==0.27.8) (1.3.1)\n",
            "Requirement already satisfied: attrs>=17.3.0 in /usr/local/lib/python3.10/dist-packages (from aiohttp->openai==0.27.8) (23.2.0)\n",
            "Requirement already satisfied: frozenlist>=1.1.1 in /usr/local/lib/python3.10/dist-packages (from aiohttp->openai==0.27.8) (1.4.1)\n",
            "Requirement already satisfied: multidict<7.0,>=4.5 in /usr/local/lib/python3.10/dist-packages (from aiohttp->openai==0.27.8) (6.0.5)\n",
            "Requirement already satisfied: yarl<2.0,>=1.0 in /usr/local/lib/python3.10/dist-packages (from aiohttp->openai==0.27.8) (1.9.4)\n",
            "Requirement already satisfied: async-timeout<5.0,>=4.0 in /usr/local/lib/python3.10/dist-packages (from aiohttp->openai==0.27.8) (4.0.3)\n",
            "Would install openai-0.27.8\n"
          ]
        }
      ]
    }
  ]
}